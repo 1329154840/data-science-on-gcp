{
 "cells": [
  {
   "cell_type": "markdown",
   "metadata": {},
   "source": [
    "<h1> Logistic Regression using Spark ML </h1>\n",
    "\n",
    "Set up bucket"
   ]
  },
  {
   "cell_type": "code",
   "execution_count": 1,
   "metadata": {
    "collapsed": true
   },
   "outputs": [],
   "source": [
    "BUCKET='cloud-training-demos-ml'\n",
    "\n",
    "os.environ['BUCKET'] = BUCKET"
   ]
  },
  {
   "cell_type": "markdown",
   "metadata": {},
   "source": [
    "In a standalone script, we'd have to do:\n",
    "<pre>\n",
    "from pyspark.sql import SparkSession\n",
    "from pyspark import SparkContext\n",
    "\n",
    "sc = SparkContext('local', 'logistic')\n",
    "spark = SparkSession \\\n",
    "    .builder \\\n",
    "    .appName(\"Logistic regression w/ Spark ML\") \\\n",
    "    .getOrCreate()\n",
    "\n",
    "</pre>\n",
    "But in Datalab, spark and sc already exist"
   ]
  },
  {
   "cell_type": "code",
   "execution_count": 2,
   "metadata": {
    "collapsed": false
   },
   "outputs": [
    {
     "name": "stdout",
     "output_type": "stream",
     "text": [
      "<pyspark.sql.session.SparkSession object at 0x7f6bd6156550>\n",
      "<pyspark.context.SparkContext object at 0x7f6c1ab21150>\n"
     ]
    }
   ],
   "source": [
    "print spark\n",
    "print sc"
   ]
  },
  {
   "cell_type": "code",
   "execution_count": 3,
   "metadata": {
    "collapsed": true
   },
   "outputs": [],
   "source": [
    "from pyspark.mllib.classification import LogisticRegressionWithLBFGS\n",
    "from pyspark.mllib.regression import LabeledPoint"
   ]
  },
  {
   "cell_type": "markdown",
   "metadata": {},
   "source": [
    "<h2> Read dataset </h2>"
   ]
  },
  {
   "cell_type": "code",
   "execution_count": 5,
   "metadata": {
    "collapsed": false
   },
   "outputs": [],
   "source": [
    "traindays = spark.read \\\n",
    "    .option(\"header\", \"true\") \\\n",
    "    .csv('gs://{}/flights/trainday.csv'.format(BUCKET))\n",
    "traindays.createOrReplaceTempView('traindays')"
   ]
  },
  {
   "cell_type": "code",
   "execution_count": 14,
   "metadata": {
    "collapsed": false
   },
   "outputs": [
    {
     "name": "stdout",
     "output_type": "stream",
     "text": [
      "+----------+------------+\n",
      "|   FL_DATE|is_train_day|\n",
      "+----------+------------+\n",
      "|2015-01-01|        True|\n",
      "|2015-01-02|       False|\n",
      "|2015-01-03|       False|\n",
      "|2015-01-04|        True|\n",
      "|2015-01-05|        True|\n",
      "+----------+------------+\n",
      "\n"
     ]
    }
   ],
   "source": [
    "spark.sql(\"SELECT * from traindays LIMIT 5\").show()"
   ]
  },
  {
   "cell_type": "code",
   "execution_count": 6,
   "metadata": {
    "collapsed": true
   },
   "outputs": [],
   "source": [
    "from pyspark.sql.types import StringType, FloatType, StructType, StructField\n",
    "\n",
    "header = 'FL_DATE,UNIQUE_CARRIER,AIRLINE_ID,CARRIER,FL_NUM,ORIGIN_AIRPORT_ID,ORIGIN_AIRPORT_SEQ_ID,ORIGIN_CITY_MARKET_ID,ORIGIN,DEST_AIRPORT_ID,DEST_AIRPORT_SEQ_ID,DEST_CITY_MARKET_ID,DEST,CRS_DEP_TIME,DEP_TIME,DEP_DELAY,TAXI_OUT,WHEELS_OFF,WHEELS_ON,TAXI_IN,CRS_ARR_TIME,ARR_TIME,ARR_DELAY,CANCELLED,CANCELLATION_CODE,DIVERTED,DISTANCE,DEP_AIRPORT_LAT,DEP_AIRPORT_LON,DEP_AIRPORT_TZOFFSET,ARR_AIRPORT_LAT,ARR_AIRPORT_LON,ARR_AIRPORT_TZOFFSET,EVENT,NOTIFY_TIME'\n",
    "\n",
    "def get_structfield(colname):\n",
    "   if colname in ['ARR_DELAY', 'DEP_DELAY', 'DISTANCE', 'TAXI_OUT']:\n",
    "      return StructField(colname, FloatType(), True)\n",
    "   else:\n",
    "      return StructField(colname, StringType(), True)\n",
    "\n",
    "schema = StructType([get_structfield(colname) for colname in header.split(',')])"
   ]
  },
  {
   "cell_type": "code",
   "execution_count": 7,
   "metadata": {
    "collapsed": true
   },
   "outputs": [],
   "source": [
    "inputs = 'gs://{}/flights/tzcorr/all_flights-00000-*'.format(BUCKET) # 1/30th\n",
    "#inputs = 'gs://{}/flights/tzcorr/all_flights-*'.format(BUCKET)  # FULL\n",
    "flights = spark.read\\\n",
    "            .schema(schema)\\\n",
    "            .csv(inputs)\n",
    "\n",
    "# this view can now be queried ...\n",
    "flights.createOrReplaceTempView('flights')"
   ]
  },
  {
   "cell_type": "markdown",
   "metadata": {},
   "source": [
    "<h2> Clean up </h2>"
   ]
  },
  {
   "cell_type": "code",
   "execution_count": 18,
   "metadata": {
    "collapsed": false
   },
   "outputs": [],
   "source": [
    "trainquery = \"\"\"\n",
    "SELECT\n",
    "  *\n",
    "FROM flights f\n",
    "JOIN traindays t\n",
    "ON f.FL_DATE == t.FL_DATE\n",
    "WHERE\n",
    "  t.is_train_day == 'True'\n",
    "\"\"\"\n",
    "traindata = spark.sql(trainquery)"
   ]
  },
  {
   "cell_type": "code",
   "execution_count": 19,
   "metadata": {
    "collapsed": false
   },
   "outputs": [
    {
     "name": "stdout",
     "output_type": "stream",
     "text": [
      "[Row(FL_DATE=u'2015-02-02', UNIQUE_CARRIER=u'EV', AIRLINE_ID=u'20366', CARRIER=u'EV', FL_NUM=u'4410', ORIGIN_AIRPORT_ID=u'12266', ORIGIN_AIRPORT_SEQ_ID=u'1226603', ORIGIN_CITY_MARKET_ID=u'31453', ORIGIN=u'IAH', DEST_AIRPORT_ID=u'10693', DEST_AIRPORT_SEQ_ID=u'1069302', DEST_CITY_MARKET_ID=u'30693', DEST=u'BNA', CRS_DEP_TIME=u'2015-02-02T21:35:00', DEP_TIME=u'2015-02-02T21:35:00', DEP_DELAY=0.0, TAXI_OUT=19.0, WHEELS_OFF=u'2015-02-02T21:54:00', WHEELS_ON=u'2015-02-02T23:24:00', TAXI_IN=u'6.00', CRS_ARR_TIME=u'2015-02-02T23:28:00', ARR_TIME=u'2015-02-02T23:30:00', ARR_DELAY=2.0, CANCELLED=u'0.00', CANCELLATION_CODE=None, DIVERTED=u'0.00', DISTANCE=657.0, DEP_AIRPORT_LAT=u'29.98444444', DEP_AIRPORT_LON=u'-95.34138889', DEP_AIRPORT_TZOFFSET=u'-21600.0', ARR_AIRPORT_LAT=u'36.12444444', ARR_AIRPORT_LON=u'-86.67805556', ARR_AIRPORT_TZOFFSET=u'-21600.0', EVENT=None, NOTIFY_TIME=None, FL_DATE=u'2015-02-02', is_train_day=u'True'), Row(FL_DATE=u'2015-02-02', UNIQUE_CARRIER=u'EV', AIRLINE_ID=u'20366', CARRIER=u'EV', FL_NUM=u'4410', ORIGIN_AIRPORT_ID=u'15376', ORIGIN_AIRPORT_SEQ_ID=u'1537602', ORIGIN_CITY_MARKET_ID=u'30436', ORIGIN=u'TUS', DEST_AIRPORT_ID=u'12266', DEST_AIRPORT_SEQ_ID=u'1226603', DEST_CITY_MARKET_ID=u'31453', DEST=u'IAH', CRS_DEP_TIME=u'2015-02-02T15:45:00', DEP_TIME=u'2015-02-02T15:47:00', DEP_DELAY=2.0, TAXI_OUT=15.0, WHEELS_OFF=u'2015-02-02T16:02:00', WHEELS_ON=u'2015-02-02T18:15:00', TAXI_IN=u'9.00', CRS_ARR_TIME=u'2015-02-02T18:10:00', ARR_TIME=u'2015-02-02T18:24:00', ARR_DELAY=14.0, CANCELLED=u'0.00', CANCELLATION_CODE=None, DIVERTED=u'0.00', DISTANCE=936.0, DEP_AIRPORT_LAT=u'32.11611111', DEP_AIRPORT_LON=u'-110.94111111', DEP_AIRPORT_TZOFFSET=u'-25200.0', ARR_AIRPORT_LAT=u'29.98444444', ARR_AIRPORT_LON=u'-95.34138889', ARR_AIRPORT_TZOFFSET=u'-21600.0', EVENT=None, NOTIFY_TIME=None, FL_DATE=u'2015-02-02', is_train_day=u'True')]\n"
     ]
    }
   ],
   "source": [
    "print traindata.head(2)"
   ]
  },
  {
   "cell_type": "code",
   "execution_count": 35,
   "metadata": {
    "collapsed": false
   },
   "outputs": [
    {
     "name": "stdout",
     "output_type": "stream",
     "text": [
      "+-------+------------------+------------------+-----------------+-----------------+\n",
      "|summary|         DEP_DELAY|          TAXI_OUT|        ARR_DELAY|         DISTANCE|\n",
      "+-------+------------------+------------------+-----------------+-----------------+\n",
      "|  count|            259692|            259434|           258706|           275062|\n",
      "|   mean|13.178307379511113|16.965856441329972| 9.73190030381978|802.3747082475951|\n",
      "| stddev| 41.88861333981242|10.936391508336003|45.03845702691162|  592.25431316473|\n",
      "|    min|             -61.0|               1.0|            -77.0|             31.0|\n",
      "|    max|            1587.0|             225.0|           1627.0|           4983.0|\n",
      "+-------+------------------+------------------+-----------------+-----------------+\n",
      "\n"
     ]
    }
   ],
   "source": [
    "traindata.describe().show()"
   ]
  },
  {
   "cell_type": "markdown",
   "metadata": {},
   "source": [
    "We have to remove NULLs in the delay variables (these correspond to canceled or diverted flights)."
   ]
  },
  {
   "cell_type": "markdown",
   "metadata": {},
   "source": [
    "<h2> Logistic regression </h2>"
   ]
  },
  {
   "cell_type": "code",
   "execution_count": 42,
   "metadata": {
    "collapsed": false
   },
   "outputs": [
    {
     "name": "stdout",
     "output_type": "stream",
     "text": [
      "+-------+------------------+------------------+-----------------+-----------------+\n",
      "|summary|         DEP_DELAY|          TAXI_OUT|        ARR_DELAY|         DISTANCE|\n",
      "+-------+------------------+------------------+-----------------+-----------------+\n",
      "|  count|            258706|            258706|           258706|           258706|\n",
      "|   mean|13.037455644631358| 16.95628242097207| 9.73190030381978|808.0081868994148|\n",
      "| stddev|41.430889659075206|10.919038144347908|45.03845702691162|595.6178550480842|\n",
      "|    min|             -61.0|               1.0|            -77.0|             31.0|\n",
      "|    max|            1587.0|             225.0|           1627.0|           4983.0|\n",
      "+-------+------------------+------------------+-----------------+-----------------+\n",
      "\n"
     ]
    }
   ],
   "source": [
    "trainquery = \"\"\"\n",
    "SELECT\n",
    "  *\n",
    "FROM flights f\n",
    "JOIN traindays t\n",
    "ON f.FL_DATE == t.FL_DATE\n",
    "WHERE\n",
    "  t.is_train_day == 'True' AND\n",
    "  f.dep_delay IS NOT NULL AND \n",
    "  f.arr_delay IS NOT NULL\n",
    "\"\"\"\n",
    "traindata = spark.sql(trainquery)\n",
    "traindata.describe().show()"
   ]
  },
  {
   "cell_type": "code",
   "execution_count": 54,
   "metadata": {
    "collapsed": false
   },
   "outputs": [
    {
     "name": "stdout",
     "output_type": "stream",
     "text": [
      "+-------+------------------+------------------+-----------------+-----------------+\n",
      "|summary|         DEP_DELAY|          TAXI_OUT|        ARR_DELAY|         DISTANCE|\n",
      "+-------+------------------+------------------+-----------------+-----------------+\n",
      "|  count|            258706|            258706|           258706|           258706|\n",
      "|   mean|13.037455644631358| 16.95628242097207| 9.73190030381978|808.0081868994148|\n",
      "| stddev|41.430889659075206|10.919038144347908|45.03845702691162|595.6178550480842|\n",
      "|    min|             -61.0|               1.0|            -77.0|             31.0|\n",
      "|    max|            1587.0|             225.0|           1627.0|           4983.0|\n",
      "+-------+------------------+------------------+-----------------+-----------------+\n",
      "\n"
     ]
    }
   ],
   "source": [
    "trainquery = \"\"\"\n",
    "SELECT\n",
    "  *\n",
    "FROM flights f\n",
    "JOIN traindays t\n",
    "ON f.FL_DATE == t.FL_DATE\n",
    "WHERE\n",
    "  t.is_train_day == 'True' AND\n",
    "  f.CANCELLED == '0.00' AND \n",
    "  f.DIVERTED == '0.00'\n",
    "\"\"\"\n",
    "traindata = spark.sql(trainquery)\n",
    "traindata.describe().show()"
   ]
  },
  {
   "cell_type": "code",
   "execution_count": 38,
   "metadata": {
    "collapsed": false
   },
   "outputs": [],
   "source": [
    "def to_example(fields):\n",
    "  return LabeledPoint(\\\n",
    "              float(fields['ARR_DELAY'] < 15), #ontime? \\\n",
    "              [ \\\n",
    "                  fields['DEP_DELAY'], \\\n",
    "                  fields['TAXI_OUT'],  \\\n",
    "                  fields['DISTANCE'],  \\\n",
    "              ])"
   ]
  },
  {
   "cell_type": "code",
   "execution_count": 39,
   "metadata": {
    "collapsed": false
   },
   "outputs": [],
   "source": [
    "examples = traindata.rdd.map(to_example)"
   ]
  },
  {
   "cell_type": "code",
   "execution_count": 49,
   "metadata": {
    "collapsed": false
   },
   "outputs": [
    {
     "name": "stdout",
     "output_type": "stream",
     "text": [
      "[-0.164547166127,-0.132371243776,0.000294013861929] 5.15793837988\n"
     ]
    }
   ],
   "source": [
    "lrmodel = LogisticRegressionWithLBFGS.train(examples, intercept=True)\n",
    "print lrmodel.weights,lrmodel.intercept"
   ]
  },
  {
   "cell_type": "code",
   "execution_count": 50,
   "metadata": {
    "collapsed": false
   },
   "outputs": [
    {
     "name": "stdout",
     "output_type": "stream",
     "text": [
      "1\n",
      "0\n"
     ]
    }
   ],
   "source": [
    "print lrmodel.predict([6.0,12.0,594.0])\n",
    "print lrmodel.predict([36.0,12.0,594.0])"
   ]
  },
  {
   "cell_type": "code",
   "execution_count": 51,
   "metadata": {
    "collapsed": false
   },
   "outputs": [
    {
     "name": "stdout",
     "output_type": "stream",
     "text": [
      "0.940298750341\n",
      "0.101600143877\n"
     ]
    }
   ],
   "source": [
    "lrmodel.clearThreshold()\n",
    "print lrmodel.predict([6.0,12.0,594.0])\n",
    "print lrmodel.predict([36.0,12.0,594.0])"
   ]
  },
  {
   "cell_type": "code",
   "execution_count": 52,
   "metadata": {
    "collapsed": false
   },
   "outputs": [
    {
     "name": "stdout",
     "output_type": "stream",
     "text": [
      "1\n",
      "0\n"
     ]
    }
   ],
   "source": [
    "lrmodel.setThreshold(0.7) # cancel if prob-of-ontime < 0.7\n",
    "print lrmodel.predict([6.0,12.0,594.0])\n",
    "print lrmodel.predict([36.0,12.0,594.0])"
   ]
  },
  {
   "cell_type": "markdown",
   "metadata": {},
   "source": [
    "<h2> Predict with the model </h2>\n",
    "\n",
    "First save the model"
   ]
  },
  {
   "cell_type": "code",
   "execution_count": 61,
   "metadata": {
    "collapsed": false
   },
   "outputs": [
    {
     "name": "stdout",
     "output_type": "stream",
     "text": [
      "Removing gs://cloud-training-demos-ml/flights/sparkmloutput/model/#1485762152029463...\n",
      "Removing gs://cloud-training-demos-ml/flights/sparkmloutput/model/metadata/_SUCCESS#1485762155364357...\n",
      "Removing gs://cloud-training-demos-ml/flights/sparkmloutput/model/data/#1485762156340502...\n",
      "Removing gs://cloud-training-demos-ml/flights/sparkmloutput/model/metadata/part-00000#1485762154407908...\n",
      "Removing gs://cloud-training-demos-ml/flights/sparkmloutput/model/data/_SUCCESS#1485762159334352...\n",
      "Removing gs://cloud-training-demos-ml/flights/sparkmloutput/model/data/part-r-00000-add49831-5c3d-4e9e-a59e-fc7a5ceb99a0.snappy.parquet#1485762158463878...\n",
      "Removing gs://cloud-training-demos-ml/flights/sparkmloutput/model/metadata/#1485762152012225...\n",
      "/ [7/7 objects] 100% Done                                                       \n",
      "Operation completed over 7 objects.                                              \n"
     ]
    }
   ],
   "source": [
    "!gsutil -m rm -r gs://$BUCKET/flights/sparkmloutput/model"
   ]
  },
  {
   "cell_type": "code",
   "execution_count": 62,
   "metadata": {
    "collapsed": false
   },
   "outputs": [
    {
     "name": "stdout",
     "output_type": "stream",
     "text": [
      "gs://cloud-training-demos-ml/flights/sparkmloutput/model saved\n"
     ]
    }
   ],
   "source": [
    "MODEL_FILE='gs://' + BUCKET + '/flights/sparkmloutput/model'\n",
    "lrmodel.save(sc, MODEL_FILE)\n",
    "print '{} saved'.format(MODEL_FILE)"
   ]
  },
  {
   "cell_type": "code",
   "execution_count": 63,
   "metadata": {
    "collapsed": false
   },
   "outputs": [
    {
     "name": "stdout",
     "output_type": "stream",
     "text": [
      "0\n"
     ]
    }
   ],
   "source": [
    "lrmodel = 0\n",
    "print lrmodel"
   ]
  },
  {
   "cell_type": "markdown",
   "metadata": {},
   "source": [
    "Now retrieve the model"
   ]
  },
  {
   "cell_type": "code",
   "execution_count": 64,
   "metadata": {
    "collapsed": false
   },
   "outputs": [],
   "source": [
    "from pyspark.mllib.classification import LogisticRegressionModel\n",
    "lrmodel = LogisticRegressionModel.load(sc, MODEL_FILE)\n",
    "lrmodel.setThreshold(0.7)"
   ]
  },
  {
   "cell_type": "code",
   "execution_count": 65,
   "metadata": {
    "collapsed": false
   },
   "outputs": [
    {
     "name": "stdout",
     "output_type": "stream",
     "text": [
      "0\n"
     ]
    }
   ],
   "source": [
    "print lrmodel.predict([36.0,12.0,594.0])"
   ]
  },
  {
   "cell_type": "code",
   "execution_count": 66,
   "metadata": {
    "collapsed": false
   },
   "outputs": [
    {
     "name": "stdout",
     "output_type": "stream",
     "text": [
      "1\n"
     ]
    }
   ],
   "source": [
    "print lrmodel.predict([8.0,4.0,594.0])"
   ]
  },
  {
   "cell_type": "markdown",
   "metadata": {},
   "source": [
    "<h2> Examine the model behavior </h2>\n",
    "\n",
    "For dep_delay=20 and taxiout=10, how does the distance affect prediction?"
   ]
  },
  {
   "cell_type": "code",
   "execution_count": 67,
   "metadata": {
    "collapsed": false
   },
   "outputs": [
    {
     "name": "stdout",
     "output_type": "stream",
     "text": [
      "0.666031335615\n"
     ]
    }
   ],
   "source": [
    "lrmodel.clearThreshold() # to make the model produce probabilities\n",
    "print lrmodel.predict([20, 10, 500])"
   ]
  },
  {
   "cell_type": "code",
   "execution_count": 68,
   "metadata": {
    "collapsed": false
   },
   "outputs": [],
   "source": [
    "import matplotlib.pyplot as plt\n",
    "import seaborn as sns\n",
    "import pandas as pd\n",
    "import numpy as np\n",
    "dist = np.arange(10, 2000, 10)\n",
    "prob = [lrmodel.predict([20, 10, d]) for d in dist]"
   ]
  },
  {
   "cell_type": "code",
   "execution_count": 70,
   "metadata": {
    "collapsed": false
   },
   "outputs": [
    {
     "data": {
      "text/plain": [
       "<matplotlib.text.Text at 0x7f6bd4189b90>"
      ]
     },
     "execution_count": 70,
     "metadata": {},
     "output_type": "execute_result"
    },
    {
     "data": {
      "image/png": "[encoded data removed]",
      "text/plain": [
       "<matplotlib.figure.Figure at 0x7f6bd4892950>"
      ]
     },
     "metadata": {},
     "output_type": "display_data"
    }
   ],
   "source": [
    "sns.set_style(\"whitegrid\")\n",
    "ax = plt.plot(dist, prob)\n",
    "plt.xlabel('distance (miles)')\n",
    "plt.ylabel('probability of ontime arrival')"
   ]
  },
  {
   "cell_type": "code",
   "execution_count": 72,
   "metadata": {
    "collapsed": false
   },
   "outputs": [
    {
     "data": {
      "text/plain": [
       "<matplotlib.text.Text at 0x7f6bc4710710>"
      ]
     },
     "execution_count": 72,
     "metadata": {},
     "output_type": "execute_result"
    },
    {
     "data": {
      "image/png": "[encoded data removed]",
      "text/plain": [
       "<matplotlib.figure.Figure at 0x7f6bd48dd050>"
      ]
     },
     "metadata": {},
     "output_type": "display_data"
    }
   ],
   "source": [
    "delay = np.arange(-20, 60, 1)\n",
    "prob = [lrmodel.predict([d, 10, 500]) for d in delay]\n",
    "ax = plt.plot(delay, prob)\n",
    "plt.xlabel('departure delay (minutes)')\n",
    "plt.ylabel('probability of ontime arrival')"
   ]
  },
  {
   "cell_type": "markdown",
   "metadata": {},
   "source": [
    "<h2> Evaluate model </h2>\n",
    "\n",
    "Evaluate on the test data"
   ]
  },
  {
   "cell_type": "code",
   "execution_count": 73,
   "metadata": {
    "collapsed": false
   },
   "outputs": [
    {
     "name": "stdout",
     "output_type": "stream",
     "text": [
      "\n",
      "SELECT\n",
      "  *\n",
      "FROM flights f\n",
      "JOIN traindays t\n",
      "ON f.FL_DATE == t.FL_DATE\n",
      "WHERE\n",
      "  t.is_train_day == 'False' AND\n",
      "  f.CANCELLED == '0.00' AND \n",
      "  f.DIVERTED == '0.00'\n",
      "\n"
     ]
    }
   ],
   "source": [
    "testquery = trainquery.replace(\"t.is_train_day == 'True'\",\"t.is_train_day == 'False'\")\n",
    "print testquery"
   ]
  },
  {
   "cell_type": "code",
   "execution_count": 74,
   "metadata": {
    "collapsed": true
   },
   "outputs": [],
   "source": [
    "testdata = spark.sql(testquery)\n",
    "examples = testdata.rdd.map(to_example)"
   ]
  },
  {
   "cell_type": "code",
   "execution_count": 79,
   "metadata": {
    "collapsed": false
   },
   "outputs": [
    {
     "name": "stdout",
     "output_type": "stream",
     "text": [
      "{'correct_cancel': 0.7917474551623849, 'total_noncancel': 115949, 'correct_noncancel': 0.9571363271783284, 'total_cancel': 33008}\n"
     ]
    }
   ],
   "source": [
    "lrmodel.setThreshold(0.7)\n",
    "labelpred = examples.map(lambda p: (p.label, lrmodel.predict(p.features)))\n",
    "def eval(labelpred):\n",
    "    cancel = labelpred.filter(lambda (label, pred): pred == 0)\n",
    "    nocancel = labelpred.filter(lambda (label, pred): pred == 1)\n",
    "    corr_cancel = cancel.filter(lambda (label, pred): label == pred).count()\n",
    "    corr_nocancel = nocancel.filter(lambda (label, pred): label == pred).count()\n",
    "    \n",
    "    cancel_denom = cancel.count()\n",
    "    nocancel_denom = nocancel.count()\n",
    "    if cancel_denom == 0:\n",
    "        cancel_denom = 1\n",
    "    if nocancel_denom == 0:\n",
    "        nocancel_denom = 1\n",
    "    return {'total_cancel': cancel.count(), \\\n",
    "            'correct_cancel': float(corr_cancel)/cancel_denom, \\\n",
    "            'total_noncancel': nocancel.count(), \\\n",
    "            'correct_noncancel': float(corr_nocancel)/nocancel_denom \\\n",
    "           }\n",
    "print eval(labelpred)"
   ]
  },
  {
   "cell_type": "code",
   "execution_count": null,
   "metadata": {
    "collapsed": true
   },
   "outputs": [],
   "source": []
  }
 ],
 "metadata": {
  "kernelspec": {
   "display_name": "Python 2",
   "language": "python",
   "name": "python2"
  },
  "language_info": {
   "codemirror_mode": {
    "name": "ipython",
    "version": 2
   },
   "file_extension": ".py",
   "mimetype": "text/x-python",
   "name": "python",
   "nbconvert_exporter": "python",
   "pygments_lexer": "ipython2",
   "version": "2.7.9"
  }
 },
 "nbformat": 4,
 "nbformat_minor": 2
}
