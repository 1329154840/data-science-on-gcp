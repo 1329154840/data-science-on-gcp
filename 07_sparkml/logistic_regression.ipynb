{
 "cells": [
  {
   "cell_type": "markdown",
   "metadata": {},
   "source": [
    "<h1> Logistic Regression using Spark ML </h1>\n",
    "\n",
    "Set up bucket"
   ]
  },
  {
   "cell_type": "code",
<<<<<<< HEAD
   "execution_count": 9,
=======
   "execution_count": 1,
>>>>>>> origin/ch7
   "metadata": {
    "collapsed": true
   },
   "outputs": [],
   "source": [
    "BUCKET='cloud-training-demos-ml'\n",
    "\n",
    "os.environ['BUCKET'] = BUCKET"
   ]
  },
  {
   "cell_type": "markdown",
   "metadata": {},
   "source": [
    "In a standalone script, we'd have to do:\n",
    "<pre>\n",
    "from pyspark.sql import SparkSession\n",
    "from pyspark import SparkContext\n",
    "\n",
    "sc = SparkContext('local', 'logistic')\n",
    "spark = SparkSession \\\n",
    "    .builder \\\n",
    "    .appName(\"Logistic regression w/ Spark ML\") \\\n",
    "    .getOrCreate()\n",
    "\n",
    "</pre>\n",
    "But in Datalab, spark and sc already exist"
   ]
  },
  {
   "cell_type": "code",
<<<<<<< HEAD
   "execution_count": 10,
=======
   "execution_count": 2,
>>>>>>> origin/ch7
   "metadata": {
    "collapsed": false
   },
   "outputs": [
    {
     "name": "stdout",
     "output_type": "stream",
     "text": [
<<<<<<< HEAD
      "<pyspark.sql.session.SparkSession object at 0x7f88b63c00d0>\n",
      "<pyspark.context.SparkContext object at 0x7f88fad1d150>\n"
=======
      "<pyspark.sql.session.SparkSession object at 0x7f6bd6156550>\n",
      "<pyspark.context.SparkContext object at 0x7f6c1ab21150>\n"
>>>>>>> origin/ch7
     ]
    }
   ],
   "source": [
    "print spark\n",
    "print sc"
   ]
  },
  {
   "cell_type": "code",
<<<<<<< HEAD
   "execution_count": 23,
=======
   "execution_count": 3,
>>>>>>> origin/ch7
   "metadata": {
    "collapsed": true
   },
   "outputs": [],
   "source": [
    "from pyspark.mllib.classification import LogisticRegressionWithLBFGS\n",
    "from pyspark.mllib.regression import LabeledPoint"
   ]
  },
  {
   "cell_type": "markdown",
   "metadata": {},
   "source": [
    "<h2> Read dataset </h2>"
   ]
  },
  {
   "cell_type": "code",
<<<<<<< HEAD
   "execution_count": 11,
=======
   "execution_count": 5,
>>>>>>> origin/ch7
   "metadata": {
    "collapsed": false
   },
   "outputs": [],
   "source": [
    "traindays = spark.read \\\n",
    "    .option(\"header\", \"true\") \\\n",
    "    .csv('gs://{}/flights/trainday.csv'.format(BUCKET))\n",
    "traindays.createOrReplaceTempView('traindays')"
   ]
  },
  {
   "cell_type": "code",
   "execution_count": 12,
   "metadata": {
    "collapsed": false
   },
   "outputs": [
    {
     "name": "stdout",
     "output_type": "stream",
     "text": [
      "+----------+------------+\n",
      "|   FL_DATE|is_train_day|\n",
      "+----------+------------+\n",
      "|2015-01-01|        True|\n",
      "|2015-01-02|       False|\n",
      "|2015-01-03|       False|\n",
      "|2015-01-04|        True|\n",
      "|2015-01-05|        True|\n",
      "+----------+------------+\n",
      "\n"
     ]
    }
   ],
   "source": [
    "spark.sql(\"SELECT * from traindays LIMIT 5\").show()"
   ]
  },
  {
   "cell_type": "code",
   "execution_count": 13,
   "metadata": {
    "collapsed": false
   },
   "outputs": [
    {
     "name": "stdout",
     "output_type": "stream",
     "text": [
      "+----------+------------+\n",
      "|   FL_DATE|is_train_day|\n",
      "+----------+------------+\n",
      "|2015-01-01|        True|\n",
      "|2015-01-02|       False|\n",
      "|2015-01-03|       False|\n",
      "|2015-01-04|        True|\n",
      "|2015-01-05|        True|\n",
      "+----------+------------+\n",
      "\n"
     ]
    }
   ],
   "source": [
    "spark.sql(\"SELECT * from traindays LIMIT 5\").show()"
   ]
  },
  {
   "cell_type": "code",
   "execution_count": 6,
   "metadata": {
    "collapsed": true
   },
   "outputs": [],
   "source": [
    "from pyspark.sql.types import StringType, FloatType, StructType, StructField\n",
    "\n",
    "header = 'FL_DATE,UNIQUE_CARRIER,AIRLINE_ID,CARRIER,FL_NUM,ORIGIN_AIRPORT_ID,ORIGIN_AIRPORT_SEQ_ID,ORIGIN_CITY_MARKET_ID,ORIGIN,DEST_AIRPORT_ID,DEST_AIRPORT_SEQ_ID,DEST_CITY_MARKET_ID,DEST,CRS_DEP_TIME,DEP_TIME,DEP_DELAY,TAXI_OUT,WHEELS_OFF,WHEELS_ON,TAXI_IN,CRS_ARR_TIME,ARR_TIME,ARR_DELAY,CANCELLED,CANCELLATION_CODE,DIVERTED,DISTANCE,DEP_AIRPORT_LAT,DEP_AIRPORT_LON,DEP_AIRPORT_TZOFFSET,ARR_AIRPORT_LAT,ARR_AIRPORT_LON,ARR_AIRPORT_TZOFFSET,EVENT,NOTIFY_TIME'\n",
    "\n",
    "def get_structfield(colname):\n",
    "   if colname in ['ARR_DELAY', 'DEP_DELAY', 'DISTANCE', 'TAXI_OUT']:\n",
    "      return StructField(colname, FloatType(), True)\n",
    "   else:\n",
    "      return StructField(colname, StringType(), True)\n",
    "\n",
    "schema = StructType([get_structfield(colname) for colname in header.split(',')])"
   ]
  },
  {
   "cell_type": "code",
<<<<<<< HEAD
   "execution_count": 14,
=======
   "execution_count": 7,
>>>>>>> origin/ch7
   "metadata": {
    "collapsed": true
   },
   "outputs": [],
   "source": [
    "inputs = 'gs://{}/flights/tzcorr/all_flights-00000-*'.format(BUCKET) # 1/30th\n",
    "#inputs = 'gs://{}/flights/tzcorr/all_flights-*'.format(BUCKET)  # FULL\n",
    "flights = spark.read\\\n",
    "            .schema(schema)\\\n",
    "            .csv(inputs)\n",
    "\n",
    "# this view can now be queried ...\n",
    "flights.createOrReplaceTempView('flights')"
   ]
  },
  {
   "cell_type": "markdown",
   "metadata": {},
   "source": [
    "<h2> Clean up </h2>"
   ]
  },
  {
   "cell_type": "code",
<<<<<<< HEAD
   "execution_count": 15,
=======
   "execution_count": 18,
>>>>>>> origin/ch7
   "metadata": {
    "collapsed": false
   },
   "outputs": [],
   "source": [
    "trainquery = \"\"\"\n",
    "SELECT\n",
    "  *\n",
    "FROM flights f\n",
    "JOIN traindays t\n",
    "ON f.FL_DATE == t.FL_DATE\n",
    "WHERE\n",
    "  t.is_train_day == 'True'\n",
    "\"\"\"\n",
    "traindata = spark.sql(trainquery)"
   ]
  },
  {
   "cell_type": "code",
<<<<<<< HEAD
   "execution_count": 16,
=======
   "execution_count": 19,
>>>>>>> origin/ch7
   "metadata": {
    "collapsed": false
   },
   "outputs": [
    {
     "name": "stdout",
     "output_type": "stream",
     "text": [
      "[Row(FL_DATE=u'2015-02-02', UNIQUE_CARRIER=u'EV', AIRLINE_ID=u'20366', CARRIER=u'EV', FL_NUM=u'4410', ORIGIN_AIRPORT_ID=u'12266', ORIGIN_AIRPORT_SEQ_ID=u'1226603', ORIGIN_CITY_MARKET_ID=u'31453', ORIGIN=u'IAH', DEST_AIRPORT_ID=u'10693', DEST_AIRPORT_SEQ_ID=u'1069302', DEST_CITY_MARKET_ID=u'30693', DEST=u'BNA', CRS_DEP_TIME=u'2015-02-02T21:35:00', DEP_TIME=u'2015-02-02T21:35:00', DEP_DELAY=0.0, TAXI_OUT=19.0, WHEELS_OFF=u'2015-02-02T21:54:00', WHEELS_ON=u'2015-02-02T23:24:00', TAXI_IN=u'6.00', CRS_ARR_TIME=u'2015-02-02T23:28:00', ARR_TIME=u'2015-02-02T23:30:00', ARR_DELAY=2.0, CANCELLED=u'0.00', CANCELLATION_CODE=None, DIVERTED=u'0.00', DISTANCE=657.0, DEP_AIRPORT_LAT=u'29.98444444', DEP_AIRPORT_LON=u'-95.34138889', DEP_AIRPORT_TZOFFSET=u'-21600.0', ARR_AIRPORT_LAT=u'36.12444444', ARR_AIRPORT_LON=u'-86.67805556', ARR_AIRPORT_TZOFFSET=u'-21600.0', EVENT=None, NOTIFY_TIME=None, FL_DATE=u'2015-02-02', is_train_day=u'True'), Row(FL_DATE=u'2015-02-02', UNIQUE_CARRIER=u'EV', AIRLINE_ID=u'20366', CARRIER=u'EV', FL_NUM=u'4410', ORIGIN_AIRPORT_ID=u'15376', ORIGIN_AIRPORT_SEQ_ID=u'1537602', ORIGIN_CITY_MARKET_ID=u'30436', ORIGIN=u'TUS', DEST_AIRPORT_ID=u'12266', DEST_AIRPORT_SEQ_ID=u'1226603', DEST_CITY_MARKET_ID=u'31453', DEST=u'IAH', CRS_DEP_TIME=u'2015-02-02T15:45:00', DEP_TIME=u'2015-02-02T15:47:00', DEP_DELAY=2.0, TAXI_OUT=15.0, WHEELS_OFF=u'2015-02-02T16:02:00', WHEELS_ON=u'2015-02-02T18:15:00', TAXI_IN=u'9.00', CRS_ARR_TIME=u'2015-02-02T18:10:00', ARR_TIME=u'2015-02-02T18:24:00', ARR_DELAY=14.0, CANCELLED=u'0.00', CANCELLATION_CODE=None, DIVERTED=u'0.00', DISTANCE=936.0, DEP_AIRPORT_LAT=u'32.11611111', DEP_AIRPORT_LON=u'-110.94111111', DEP_AIRPORT_TZOFFSET=u'-25200.0', ARR_AIRPORT_LAT=u'29.98444444', ARR_AIRPORT_LON=u'-95.34138889', ARR_AIRPORT_TZOFFSET=u'-21600.0', EVENT=None, NOTIFY_TIME=None, FL_DATE=u'2015-02-02', is_train_day=u'True')]\n"
     ]
    }
   ],
   "source": [
    "print traindata.head(2)"
   ]
  },
  {
   "cell_type": "code",
<<<<<<< HEAD
   "execution_count": 17,
=======
   "execution_count": 35,
>>>>>>> origin/ch7
   "metadata": {
    "collapsed": false
   },
   "outputs": [
    {
     "name": "stdout",
     "output_type": "stream",
     "text": [
      "+-------+------------------+------------------+-----------------+-----------------+\n",
      "|summary|         DEP_DELAY|          TAXI_OUT|        ARR_DELAY|         DISTANCE|\n",
      "+-------+------------------+------------------+-----------------+-----------------+\n",
      "|  count|            259692|            259434|           258706|           275062|\n",
      "|   mean|13.178307379511113|16.965856441329972| 9.73190030381978|802.3747082475951|\n",
      "| stddev| 41.88861333981242|10.936391508336003|45.03845702691162|  592.25431316473|\n",
      "|    min|             -61.0|               1.0|            -77.0|             31.0|\n",
      "|    max|            1587.0|             225.0|           1627.0|           4983.0|\n",
      "+-------+------------------+------------------+-----------------+-----------------+\n",
      "\n"
     ]
    }
   ],
   "source": [
    "traindata.describe().show()"
   ]
  },
  {
   "cell_type": "markdown",
   "metadata": {},
   "source": [
    "We have to remove NULLs in the delay variables (these correspond to canceled or diverted flights)."
   ]
  },
  {
   "cell_type": "markdown",
   "metadata": {},
   "source": [
    "<h2> Logistic regression </h2>"
   ]
  },
  {
   "cell_type": "code",
<<<<<<< HEAD
   "execution_count": 18,
=======
   "execution_count": 42,
>>>>>>> origin/ch7
   "metadata": {
    "collapsed": false
   },
   "outputs": [
    {
     "name": "stdout",
     "output_type": "stream",
     "text": [
      "+-------+------------------+------------------+-----------------+-----------------+\n",
      "|summary|         DEP_DELAY|          TAXI_OUT|        ARR_DELAY|         DISTANCE|\n",
      "+-------+------------------+------------------+-----------------+-----------------+\n",
      "|  count|            258706|            258706|           258706|           258706|\n",
      "|   mean|13.037455644631358| 16.95628242097207| 9.73190030381978|808.0081868994148|\n",
      "| stddev|41.430889659075206|10.919038144347908|45.03845702691162|595.6178550480842|\n",
      "|    min|             -61.0|               1.0|            -77.0|             31.0|\n",
      "|    max|            1587.0|             225.0|           1627.0|           4983.0|\n",
      "+-------+------------------+------------------+-----------------+-----------------+\n",
      "\n"
     ]
    }
   ],
   "source": [
    "trainquery = \"\"\"\n",
    "SELECT\n",
    "  *\n",
    "FROM flights f\n",
    "JOIN traindays t\n",
    "ON f.FL_DATE == t.FL_DATE\n",
    "WHERE\n",
    "  t.is_train_day == 'True' AND\n",
    "  f.dep_delay IS NOT NULL AND \n",
    "  f.arr_delay IS NOT NULL\n",
    "\"\"\"\n",
    "traindata = spark.sql(trainquery)\n",
    "traindata.describe().show()"
   ]
  },
  {
   "cell_type": "code",
<<<<<<< HEAD
   "execution_count": 19,
=======
   "execution_count": 54,
>>>>>>> origin/ch7
   "metadata": {
    "collapsed": false
   },
   "outputs": [
    {
     "name": "stdout",
     "output_type": "stream",
     "text": [
      "+-------+------------------+------------------+-----------------+-----------------+\n",
      "|summary|         DEP_DELAY|          TAXI_OUT|        ARR_DELAY|         DISTANCE|\n",
      "+-------+------------------+------------------+-----------------+-----------------+\n",
      "|  count|            258706|            258706|           258706|           258706|\n",
      "|   mean|13.037455644631358| 16.95628242097207| 9.73190030381978|808.0081868994148|\n",
      "| stddev|41.430889659075206|10.919038144347908|45.03845702691162|595.6178550480842|\n",
      "|    min|             -61.0|               1.0|            -77.0|             31.0|\n",
      "|    max|            1587.0|             225.0|           1627.0|           4983.0|\n",
      "+-------+------------------+------------------+-----------------+-----------------+\n",
      "\n"
     ]
    }
   ],
   "source": [
    "trainquery = \"\"\"\n",
    "SELECT\n",
    "  *\n",
    "FROM flights f\n",
    "JOIN traindays t\n",
    "ON f.FL_DATE == t.FL_DATE\n",
    "WHERE\n",
    "  t.is_train_day == 'True' AND\n",
    "  f.CANCELLED == '0.00' AND \n",
    "  f.DIVERTED == '0.00'\n",
    "\"\"\"\n",
    "traindata = spark.sql(trainquery)\n",
    "traindata.describe().show()"
   ]
  },
  {
   "cell_type": "code",
<<<<<<< HEAD
   "execution_count": 20,
=======
   "execution_count": 38,
>>>>>>> origin/ch7
   "metadata": {
    "collapsed": false
   },
   "outputs": [],
   "source": [
    "def to_example(fields):\n",
    "  return LabeledPoint(\\\n",
    "              float(fields['ARR_DELAY'] < 15), #ontime? \\\n",
    "              [ \\\n",
    "                  fields['DEP_DELAY'], \\\n",
    "                  fields['TAXI_OUT'],  \\\n",
    "                  fields['DISTANCE'],  \\\n",
    "              ])"
   ]
  },
  {
   "cell_type": "code",
<<<<<<< HEAD
   "execution_count": 50,
=======
   "execution_count": 39,
>>>>>>> origin/ch7
   "metadata": {
    "collapsed": false
   },
   "outputs": [],
   "source": [
    "examples = traindata.rdd.map(to_example)"
   ]
  },
  {
   "cell_type": "code",
<<<<<<< HEAD
   "execution_count": 51,
=======
   "execution_count": 49,
>>>>>>> origin/ch7
   "metadata": {
    "collapsed": false
   },
   "outputs": [
    {
     "name": "stdout",
     "output_type": "stream",
     "text": [
      "[-0.164547166127,-0.132371243776,0.000294013861929] 5.15793837988\n"
     ]
    }
   ],
   "source": [
    "lrmodel = LogisticRegressionWithLBFGS.train(examples, intercept=True)\n",
    "print lrmodel.weights,lrmodel.intercept"
   ]
  },
  {
   "cell_type": "code",
<<<<<<< HEAD
   "execution_count": 25,
=======
   "execution_count": 50,
>>>>>>> origin/ch7
   "metadata": {
    "collapsed": false
   },
   "outputs": [
    {
     "name": "stdout",
     "output_type": "stream",
     "text": [
      "1\n",
      "0\n"
     ]
    }
   ],
   "source": [
    "print lrmodel.predict([6.0,12.0,594.0])\n",
    "print lrmodel.predict([36.0,12.0,594.0])"
   ]
  },
  {
   "cell_type": "code",
<<<<<<< HEAD
   "execution_count": 52,
=======
   "execution_count": 51,
>>>>>>> origin/ch7
   "metadata": {
    "collapsed": false
   },
   "outputs": [
    {
     "name": "stdout",
     "output_type": "stream",
     "text": [
      "0.940298750341\n",
      "0.101600143877\n"
     ]
    }
   ],
   "source": [
    "lrmodel.clearThreshold()\n",
    "print lrmodel.predict([6.0,12.0,594.0])\n",
    "print lrmodel.predict([36.0,12.0,594.0])"
   ]
  },
  {
   "cell_type": "code",
<<<<<<< HEAD
   "execution_count": 27,
=======
   "execution_count": 52,
>>>>>>> origin/ch7
   "metadata": {
    "collapsed": false
   },
   "outputs": [
    {
     "name": "stdout",
     "output_type": "stream",
     "text": [
      "1\n",
      "0\n"
     ]
    }
   ],
   "source": [
    "lrmodel.setThreshold(0.7) # cancel if prob-of-ontime < 0.7\n",
    "print lrmodel.predict([6.0,12.0,594.0])\n",
    "print lrmodel.predict([36.0,12.0,594.0])"
   ]
  },
  {
   "cell_type": "markdown",
   "metadata": {},
   "source": [
    "<h2> Predict with the model </h2>\n",
    "\n",
    "First save the model"
   ]
  },
  {
   "cell_type": "code",
<<<<<<< HEAD
   "execution_count": 53,
=======
   "execution_count": 61,
>>>>>>> origin/ch7
   "metadata": {
    "collapsed": false
   },
   "outputs": [
    {
     "name": "stdout",
     "output_type": "stream",
     "text": [
<<<<<<< HEAD
      "Removing gs://cloud-training-demos-ml/flights/sparkmloutput/model/#1485832529894686...\n",
      "Removing gs://cloud-training-demos-ml/flights/sparkmloutput/model/data/#1485832533766650...\n",
      "Removing gs://cloud-training-demos-ml/flights/sparkmloutput/model/data/_SUCCESS#1485832536764765...\n",
      "Removing gs://cloud-training-demos-ml/flights/sparkmloutput/model/data/part-r-00000-d176898e-a274-4815-ad31-ab4fa0be8d20.snappy.parquet#1485832535976372...\n",
      "Removing gs://cloud-training-demos-ml/flights/sparkmloutput/model/metadata/#1485832529931085...\n",
      "Removing gs://cloud-training-demos-ml/flights/sparkmloutput/model/metadata/_SUCCESS#1485832532994558...\n",
      "Removing gs://cloud-training-demos-ml/flights/sparkmloutput/model/metadata/part-00000#1485832532030283...\n",
=======
      "Removing gs://cloud-training-demos-ml/flights/sparkmloutput/model/#1485762152029463...\n",
      "Removing gs://cloud-training-demos-ml/flights/sparkmloutput/model/metadata/_SUCCESS#1485762155364357...\n",
      "Removing gs://cloud-training-demos-ml/flights/sparkmloutput/model/data/#1485762156340502...\n",
      "Removing gs://cloud-training-demos-ml/flights/sparkmloutput/model/metadata/part-00000#1485762154407908...\n",
      "Removing gs://cloud-training-demos-ml/flights/sparkmloutput/model/data/_SUCCESS#1485762159334352...\n",
      "Removing gs://cloud-training-demos-ml/flights/sparkmloutput/model/data/part-r-00000-add49831-5c3d-4e9e-a59e-fc7a5ceb99a0.snappy.parquet#1485762158463878...\n",
      "Removing gs://cloud-training-demos-ml/flights/sparkmloutput/model/metadata/#1485762152012225...\n",
>>>>>>> origin/ch7
      "/ [7/7 objects] 100% Done                                                       \n",
      "Operation completed over 7 objects.                                              \n"
     ]
    }
   ],
   "source": [
    "!gsutil -m rm -r gs://$BUCKET/flights/sparkmloutput/model"
   ]
  },
  {
   "cell_type": "code",
<<<<<<< HEAD
   "execution_count": 43,
=======
   "execution_count": 62,
>>>>>>> origin/ch7
   "metadata": {
    "collapsed": false
   },
   "outputs": [
    {
     "name": "stdout",
     "output_type": "stream",
     "text": [
      "gs://cloud-training-demos-ml/flights/sparkmloutput/model saved\n"
     ]
    }
   ],
   "source": [
<<<<<<< HEAD
    "MODEL_FILE='gs://' + BUCKET + '/flights/sparkmloutput/model'"
=======
    "MODEL_FILE='gs://' + BUCKET + '/flights/sparkmloutput/model'\n",
    "lrmodel.save(sc, MODEL_FILE)\n",
    "print '{} saved'.format(MODEL_FILE)"
>>>>>>> origin/ch7
   ]
  },
  {
   "cell_type": "code",
<<<<<<< HEAD
   "execution_count": 54,
   "metadata": {
    "collapsed": false
   },
   "outputs": [
    {
     "name": "stdout",
     "output_type": "stream",
     "text": [
      "gs://cloud-training-demos-ml/flights/sparkmloutput/model saved\n"
     ]
    }
   ],
   "source": [
    "lrmodel.save(sc, MODEL_FILE)\n",
    "print '{} saved'.format(MODEL_FILE)"
   ]
  },
  {
   "cell_type": "code",
   "execution_count": 45,
=======
   "execution_count": 63,
>>>>>>> origin/ch7
   "metadata": {
    "collapsed": false
   },
   "outputs": [
    {
     "name": "stdout",
     "output_type": "stream",
     "text": [
      "0\n"
     ]
    }
   ],
   "source": [
    "lrmodel = 0\n",
    "print lrmodel"
   ]
  },
  {
   "cell_type": "markdown",
   "metadata": {},
   "source": [
    "Now retrieve the model"
   ]
  },
  {
   "cell_type": "code",
<<<<<<< HEAD
   "execution_count": 55,
=======
   "execution_count": 64,
>>>>>>> origin/ch7
   "metadata": {
    "collapsed": false
   },
   "outputs": [],
   "source": [
    "from pyspark.mllib.classification import LogisticRegressionModel\n",
    "lrmodel = LogisticRegressionModel.load(sc, MODEL_FILE)\n",
    "lrmodel.setThreshold(0.7)"
   ]
  },
  {
   "cell_type": "code",
<<<<<<< HEAD
   "execution_count": 47,
=======
   "execution_count": 65,
>>>>>>> origin/ch7
   "metadata": {
    "collapsed": false
   },
   "outputs": [
    {
     "name": "stdout",
     "output_type": "stream",
     "text": [
      "0\n"
     ]
    }
   ],
   "source": [
    "print lrmodel.predict([36.0,12.0,594.0])"
   ]
  },
  {
   "cell_type": "code",
<<<<<<< HEAD
   "execution_count": 30,
=======
   "execution_count": 66,
>>>>>>> origin/ch7
   "metadata": {
    "collapsed": false
   },
   "outputs": [
    {
     "name": "stdout",
     "output_type": "stream",
     "text": [
      "1\n"
     ]
    }
   ],
   "source": [
    "print lrmodel.predict([8.0,4.0,594.0])"
   ]
  },
  {
   "cell_type": "markdown",
   "metadata": {},
   "source": [
    "<h2> Examine the model behavior </h2>\n",
    "\n",
    "For dep_delay=20 and taxiout=10, how does the distance affect prediction?"
   ]
  },
  {
   "cell_type": "code",
<<<<<<< HEAD
   "execution_count": 56,
=======
   "execution_count": 67,
>>>>>>> origin/ch7
   "metadata": {
    "collapsed": false
   },
   "outputs": [
    {
     "name": "stdout",
     "output_type": "stream",
     "text": [
      "0.666031335615\n"
     ]
    }
   ],
   "source": [
    "lrmodel.clearThreshold() # to make the model produce probabilities\n",
    "print lrmodel.predict([20, 10, 500])"
   ]
  },
  {
   "cell_type": "code",
<<<<<<< HEAD
   "execution_count": 32,
=======
   "execution_count": 68,
>>>>>>> origin/ch7
   "metadata": {
    "collapsed": false
   },
   "outputs": [],
   "source": [
    "import matplotlib.pyplot as plt\n",
    "import seaborn as sns\n",
    "import pandas as pd\n",
    "import numpy as np\n",
    "dist = np.arange(10, 2000, 10)\n",
    "prob = [lrmodel.predict([20, 10, d]) for d in dist]"
   ]
  },
  {
   "cell_type": "code",
<<<<<<< HEAD
   "execution_count": 33,
=======
   "execution_count": 70,
>>>>>>> origin/ch7
   "metadata": {
    "collapsed": false
   },
   "outputs": [
    {
     "data": {
      "text/plain": [
<<<<<<< HEAD
       "<matplotlib.text.Text at 0x7f88b4aee250>"
      ]
     },
     "execution_count": 33,
=======
       "<matplotlib.text.Text at 0x7f6bd4189b90>"
      ]
     },
     "execution_count": 70,
>>>>>>> origin/ch7
     "metadata": {},
     "output_type": "execute_result"
    },
    {
     "data": {
<<<<<<< HEAD
      "image/png": "iVBORw0KGgoAAAANSUhEUgAAAgUAAAFmCAYAAAD9FOlkAAAABHNCSVQICAgIfAhkiAAAAAlwSFlz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\npZRSCtCkQCmllFID/gdxHi3mVeBWRQAAAABJRU5ErkJggg==\n",
      "text/plain": [
       "<matplotlib.figure.Figure at 0x7f88b4c30b90>"
=======
      "image/png": "iVBORw0KGgoAAAANSUhEUgAAAgUAAAFmCAYAAAD9FOlkAAAABHNCSVQICAgIfAhkiAAAAAlwSFlz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\nAAAASUVORK5CYII=\n",
      "text/plain": [
       "<matplotlib.figure.Figure at 0x7f6bd4892950>"
>>>>>>> origin/ch7
      ]
     },
     "metadata": {},
     "output_type": "display_data"
    }
   ],
   "source": [
    "sns.set_style(\"whitegrid\")\n",
    "ax = plt.plot(dist, prob)\n",
    "plt.xlabel('distance (miles)')\n",
    "plt.ylabel('probability of ontime arrival')"
   ]
  },
  {
   "cell_type": "code",
<<<<<<< HEAD
   "execution_count": 34,
=======
   "execution_count": 72,
>>>>>>> origin/ch7
   "metadata": {
    "collapsed": false
   },
   "outputs": [
    {
     "data": {
      "text/plain": [
<<<<<<< HEAD
       "<matplotlib.text.Text at 0x7f88b4235050>"
      ]
     },
     "execution_count": 34,
=======
       "<matplotlib.text.Text at 0x7f6bc4710710>"
      ]
     },
     "execution_count": 72,
>>>>>>> origin/ch7
     "metadata": {},
     "output_type": "execute_result"
    },
    {
     "data": {
<<<<<<< HEAD
      "image/png": "iVBORw0KGgoAAAANSUhEUgAAAfgAAAFmCAYAAACBRIhMAAAABHNCSVQICAgIfAhkiAAAAAlwSFlz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\nQgixDEmCF0IIIZahfwAqXvlyeY1s3wAAAABJRU5ErkJggg==\n",
      "text/plain": [
       "<matplotlib.figure.Figure at 0x7f88b426d350>"
=======
      "image/png": "iVBORw0KGgoAAAANSUhEUgAAAfgAAAFmCAYAAACBRIhMAAAABHNCSVQICAgIfAhkiAAAAAlwSFlz\nAAALEgAACxIB0t1+/AAAIABJREFUeJzs3XlYVPXiP/D3mWHY930RWUVccAn3BVJQFFQwNa9ZedOb\nt26F7XX1tlwtvWnpzepnevWWmpVLohaGCyq4m7grICAIsqrsO8yc3x8Y37yKA8rMYYb363nmYZYz\nZ96fpOfNOXPO5wiiKIogIiIivSKTOgARERG1PxY8ERGRHmLBExER6SEWPBERkR5iwRMREekhFjwR\nEZEe0mjBz58/H8OGDcPEiRNbXOajjz7C2LFjERkZieTkZE3GISIi6jQ0WvBPPPEE1q1b1+LrCQkJ\nyM7Oxt69e7Fw4UJ88MEHmoxDRETUaWi04AcMGABLS8sWX4+Pj0dUVBQAoG/fvqioqMCtW7c0GYmI\niKhTkPQ7+KKiIjg7Ozc/dnJyQmFhoYSJiIiI9IOkBX+/WXIFQZAgCRERkX4xkPLDnZycUFBQ0Py4\noKAAjo6Oat+XlJSkyVhEREQdTmBgYJuW13jBP+haNiEhIdi0aRPCw8Nx7tw5WFpawt7evlXrDQwM\nhCiKUIlNn9F0A1R3fv7+mkol3rkv3rnf9Nzvj5V37jc/rxKhVKmgUjWtq+l+03JKlQilsmmZRqXq\nzmMVGlUiVHd+KpUqNCqbXm9UqqC8c79BqUJjY9PPhsY79+/c6huVd+4rUd+gQlVNLUTIUd/Q9Pyj\nMjKUw9TIAGYmCpibKGBuaghz0zv3TQxhaXb3zcrcCJZmhjBUyB/5s+8nKSmpzb+oukKfxwZwfLqO\n49NdD7Nhq9GCf+ONN3Dy5EmUlpbi8ccfxyuvvIKGhgYIgoDp06cjODgYCQkJGDNmDExMTLBkyZI2\nrV8QBMgFANCv3fp//CVVqUTU3yn+unolausbUdegbL5fW69ETW0jausbUVN351bbiOq6RlTXNqC6\nthFVd36WV9Uj71YVVKrWXUDQzNgA1hbGsLYwgo2FEWwsjWFraQx7K2PYWZvA3soEdlbGGvtDgIiI\nHp5GC/6zzz5Tu8z777+vyQg6TyYTYGxoAGNDAGaPvj5RFFFT14jK6gZU1jSgoroeFdX1KK9qupVV\n1jX/LK2oQ2llHXJvVj5wnZZmhnC0NYWTrSmc7/x0sjWDs13Tfbmc8ykREWmbpN/Bk/YJggBTYwVM\njRVQf7RDk0alCmWVdSipqENxeS1ul9bgVlktbpXW4HZZDW6W1CArrxzpOaX3vFcuE+BsZ4YujuZw\ndTCHm4M5akrr0KO2AabGivYdHBERNWPBk1oGchnsrExgZ2XS4jIqlYiSiloU3K5GYXHTreB2FXKL\nKnHjZuU9ewHW7dsNR1tTeDpbwtPVEp4ulujmbg0nW1OeSUFE1A5Y8NQuZDKh+Y+AXt52d70miiLK\nq+qRe7MSN4oq8dv5dNSojHE9vwKnrhTg1JX/O5PCwtQQ3dyt0c3dGr7u1vD3sIW1hZG2h0NEpPNY\n8KRxgiDAytwIVuZG6OllBzuDW80HEZZW1OF6fjkycsuQfqMUaTklOJNahDOpRc3v7+Jojl7eds03\nRxtTqYZCRKQzWPAkKWsLI1hbOKCvn0Pzc+VV9UjPaSr7K5nFSM66jT0nrmPPiesAAEcbE/Tv7ohA\nf0f07ebA7/KJiO6DBU8djqWZIR7zd8Rj/k2HASqVKmTmlePStdu4fO0WLmX8X+HLZQL8PW0R6O+I\nAT2c4Oliye/wiYjAgicdIJfL4HvnO/moYB8oVWLTrvyUIpxJKcKVzNu4fO02NuxOhqu9GYb3dcWw\nPq7wcbNi2RNRp8WCJ50jlwnw97CFv4ctngrzR1llHc5dvYnjl/JxOrkQW+PTsDU+DU62phjexxWj\nBrjD06XlqxoSEekjFjzpPCtzIwQ/1gXBj3VBbX0jzqQU4eiFPPx2pQDbD6Vj+6F0+LpbI3RgVwT3\nd4O5qaHUkYmINI4FT3rF2NAAw/o07aKvb1DidHIh9v+WjaTkQnydU4p1uy5haIALxg72QB9fe+7C\nJyK9xYInvWWokDeXfXF5LQ6ezsG+U9lIPJuLxLO58HSxRGSQN4L6d+F8+kSkd1jw1CnYWhpjyuhu\neGKUL1KySvDL0Ws4cj4Pn28+h/WxyQgf5onxw7w4qQ4R6Q0WPHUqgiCgh5ctenjZ4s8RNYg9eg1x\nJ67j+72p2HogDWMGdcWToX4PnJaXiEgXsOCp03KwMcGfJ/TC9DHdceC3bOxIzMDuY1nYdyob4cO8\nMHV0N27RE5HOYsFTp2diZICIEd4IG+qJA6dz8OO+VOxMzEDciSxMGO6FJ0Z1g6UZj7wnIt3CC3UT\n3WEgl2HsYA+sfjcELzzRB2bGCvx0MB1/+XgfdiSko1GpkjoiEVGrseCJ/ofCQI6I4V5YMz8Ucyb1\nhlwmYN2uy4j+7CDOXS1SvwIiog6ABU/UAiOFHFHBPvj63RCMG+qJG0WVeG/1cSxZfwpFxdVSxyMi\neiAWPJEaVuZGeGlqXyx/NRj+HjY4diEfLy49gK3xV6Hkbnsi6qBY8ESt5NvFGp+8PBKvzegPU2MD\nbNidjHe+PIIbRRVSRyMiugcLnqgNZDIBowd0xf97ezSC+3dBanYJ5n12CLsSM6BSiVLHIyJqxtPk\niB6Chakh3nw6EEMDXPD/fjqP/+y8hOOX8hHSSyF1NCIiACx4okcyvK8renrb4v9tO48Tlwpw9boA\nhcUNBD/WRepoRNTJcRc90SOysTDG/D8PwmszHgMAfLopCf/ZcZHnzRORpLgFT9QOBEHA6AHuaKjI\nxc7fqrHr8DWk5ZTinWcHcF57IpIEt+CJ2pG9pQKfzQvCyH5uSM4qxqsrEnAp45bUsYioE2LBE7Uz\nEyMDvPV0IJ6P7I2Kqnos+PoYdiZmQBR5lD0RaQ8LnkgDBEHApCAffPzicFibG2LtzktYs+MilDyV\njoi0hAVPpEG9vO3w2bxgeDhb4Jcjmfhkw2+oa1BKHYuIOgEWPJGG2Vub4F8vj0SAjz2OX8zHe18f\nQ0V1vdSxiEjPseCJtMDcRIF/zh2CoDsH3739xWEU8oI1RKRBLHgiLVEYyPHGzEBMftwXN4oq8dbK\nRGTmlUkdi4j0FAueSItkMgGzJ/bC85G9UVpZhwWrjrHkiUgjWPBEEpgU5INXpvVDRXU9/vH1MWTl\nl0sdiYj0DAueSCJjBnvg5Wn9UF5VjwWrjuI6S56I2hELnkhCYUM88NLUvk0l/zVLnojaDwueSGLj\nhnrib1P7oqzyTskXsOSJ6NGx4Ik6gPFDPfHilD4oq6zHP1YdQ/6tKqkjEZGOY8ETdRDhw7zwfFTT\n0fUf/uc4yirrpI5ERDqMBU/UgUwa6YMpo3yRd6sKH/33JKe1JaKHxoIn6mCeDe+J4P5dkHK9BJ9t\nSuIFaojoobDgiToYmUzAvD/1a567fu2Oi7zULBG1GQueqANSGMgx/7lB6OpsgV+OZiLmUIbUkYhI\nx7DgiToocxMFPvzLUNhaGuObXy7j8LlcqSMRkQ5hwRN1YA42Jvjw+SEwMTLAv388y3nriajVWPBE\nHZyXqxVem9Ef9Q1KLPn2N1TyWvJE1AoseCIdMDTAFdNCuiH/dhU++/4MVDyynojUYMET6YiZ43qg\nv58DTicXYvO+VKnjEFEHx4In0hFymYA3nx4AR1tTfL83FaeuFEgdiYg6MBY8kQ6xNDPE/FkDYWgg\nw/JNSci7VSl1JCLqoFjwRDrGp4s1XprWD1W1jVjy7W+orW+UOhIRdUAseCIdNHqAOyKGeyErvxz/\n3XVZ6jhE1AGx4Il01JxJveDpYolfj2fh5KV8qeMQUQej8YJPTEzEuHHjEBYWhjVr1tzzen5+Pp59\n9llMnjwZkZGRSEhI0HQkIr2gMJDjzacDYWggw8ot51BSXit1JCLqQDRa8CqVCosWLcK6devwyy+/\nIDY2FhkZd8+pvWrVKoSHhyMmJgbLly/HP//5T01GItIrHs6WeG5iL5RX1ePfP57l+fFE1EyjBX/h\nwgV4eHjAzc0NCoUCERERiI+Pv2sZQRBQWdl0JHB5eTmcnJw0GYlI70QM90KgvyPOpBbhl6PXpI5D\nRB2ERgu+sLAQLi4uzY+dnJxQVFR01zIvv/wydu7cieDgYLzwwgt47733NBmJSO8IgoB50/vDytwQ\n3/5yBVn55VJHIqIOwECTK2/NNaxjY2MxZcoU/PnPf8a5c+fw1ltvITY2Vu37kpKS2iNih8Xx6S6p\nxhYeaIEfEm5j0dojeD7MEQq5oJHP0ed/O4Dj03X6Pr620GjBOzs7Iy8vr/lxYWEhHB0d71pm27Zt\nWLduHQCgX79+qKurQ3FxMWxtbR+47sDAwPYP3EEkJSVxfDpKyrEFBgKlDefx67EsXMw3wvORAe3+\nGfr8bwdwfLpOn8f3MH+4aHQXfUBAALKzs5Gbm4v6+nrExsYiJCTkrmVcXV1x7NgxAEBGRgbq6+vV\nljsR3d/sib3g5mCOnw9fQ0pWsdRxiEhCGi14uVyO9957D7Nnz8aECRMQEREBHx8frFy5EgcPHgQA\nvPPOO9iyZQsiIyPx5ptv4pNPPtFkJCK9ZmxogFee7AdRBFZuOYuGRqXUkYhIIhrdRQ8AQUFBCAoK\nuuu56Ojo5vs+Pj744YcfNB2DqNPo5W2H8GGe2H0sC1v2p2HmOH+pIxGRBDiTHZEemhXRE/ZWxth2\n4Cqu86h6ok6JBU+kh0yNFfjb1L5oVIr4Yss5KDkBDlGnw4In0lMDezojqL8bUrNL8MsRToBD1Nmw\n4In02NyoAFiYGmLjr8kouF0ldRwi0iIWPJEeszI3wl8ie6OuXomvtp1v1eRTRKQfWPBEem5UYBc8\n1t0R567exKEzN6SOQ0RawoIn0nOCIOBvU/vC0ECGb36+jOraBqkjEZEWsOCJOgEnW1NMHd0NJRV1\n+HHfVanjEJEWsOCJOoknRneDo60pdiVmIKewQuo4RKRhLHiiTsJIIcdfJvWGUiXiPzsu8oA7Ij3H\ngifqRIb0dkZ/PwecvXoTJy4VSB2HiDSIBU/UiQiCgOejAiCXCVi76xLqGngxGiJ91eLFZoYMGQJB\nEO55XhRFCIKA48ePazQYEWmGu5MFJgX5IOZQOrYfTMeMsd2ljkREGtBiwf/000/azEFEWvSnMX44\nlJSDbfFXMXqAO5xsTaWORETtrMWCd3Nz02YOItIiU2MFnpvYC8u/P4N1uy5h/p8HSR2JiNqZ2uvB\n5+fnY9myZUhJSUFdXV3z8/Hx8RoNRkSa9fhjXfDrsSwcv5iPy9duo5e3ndSRiKgdqT3Ibv78+Rg6\ndChEUcSnn36KwMBATJ48WRvZiEiDBEHA7Em9AADf/HyZp80R6Rm1BV9SUoJp06bBwMAA/fv3x7/+\n9S8kJCRoIxsRaZi/hy2G93FFanYJjl3IlzoOEbUjtQWvUCgAAKampsjLy0NjYyOKi4s1HoyItOPZ\n8B6QywSs330FDY0qqeMQUTtRW/ADBgxAaWkpZsyYgSeeeAKhoaEICQnRRjYi0gJXB3OMH+qJ/FtV\n2HMiS+o4RNRO1B5k98477wAAoqKiMGjQIFRWVsLPz0/jwYhIe6aP6Y740zn4YW8qRg9wh6mxQupI\nRPSIWnWQXVJSEgDA1dWV5U6kh6wtjDBltC/Kq+qx/WC61HGIqB2oLfiePXvi448/RlhYGFatWoWC\nAs5fTaSPIoN8YGtpjJiEDNwuq5E6DhE9IrUF//TTT2P79u344osvUF5ejieffBJz5szRRjYi0iJj\nQwM8FeaP+gYlvt+TKnUcInpErb7YjK+vLwYNGoTevXvj/PnzmsxERBIJHegOdycL7D91HdcLyqWO\nQ0SPQG3Bp6am4l//+heCgoKwYcMGjBs3DkeOHNFGNiLSMrlchj9P6AmVCGzcnSx1HCJ6BGqPoo+O\njkZUVBS2bt0KFxcXbWQiIgkN7OEEfw8bnLxcgLScEnRzt5E6EhE9BLVb8Hv27MGLL77IcifqJARB\nwNPjegAANsWlSJyGiB5Wi1vw69evx6xZs7B06dL7vv72229rLBQRSatPN3v09rFDUkoRUrKK4e9p\nK3UkImqjFrfgjYyMADRNUXu/GxHpL27FE+m+Frfg//SnP0GpVMLBwQHTp0/XZiYi6gB6eduhn58D\nzl29iUsZt9Dbx17qSETUBg/8Dl4ul2Pz5s3aykJEHczT4/wBAN/FpfByskQ6Ru1BdoMHD0ZcXJw2\nshBRB9PdwxYDejjh8rXbOJ92U+o4RNQGak+Ti4mJwTfffANjY2OYmJhAFEUIgoDjx49rIx8RSWzm\nOH+cTi7Ed3Ep+NMwHn9DpCvUFvxPP/2kjRxE1EH5drHG0AAXHL+YjzRPGQZIHYiIWuWBu+iVSiUW\nLlwINze3e25E1Hk8FeYPQQAOXiznd/FEOkLtQXalpaVQqVTaykNEHZCniyVG9HVDfnEDfrtSKHUc\nImoFtbvo+/bti5dffhkTJkyAmZlZ8/PBwcEaDUZEHcv0UD8cPpeLLfuvYmBPJwiCIHUkInoAtQWf\nnNx0wYkffvih+TlBEFjwRJ2Mh4sl/LsYIyW7BOfTbqKfn6PUkYjoAdQW/MaNG7WRg4h0QFBvS6Tc\nqMXm/VdZ8EQdnNqCB4CKigpkZmairq6u+bmBAwdqLBQRdUyutoYI9HdEUkoRLl+7jV7edlJHIqIW\nqC343bt345NPPkF5eTkcHR2RnZ0Nf39/xMTEaCMfEXUw00O7IymlCFv2X8U/5w6VOg4RtUDtTHZf\nf/01tm/fDg8PD+zZswdr165FQECANrIRUQfUw8sWfXztcSa1CFezS6SOQ0QtUFvwBgYGsLOzg1Kp\nBAAMHz4cFy9e1HgwIuq4ngz1AwBs2X9V4iRE1BK1u+gNDQ0hiiI8PDywceNGuLm5obq6WhvZiKiD\n6uNrj+4eNjh5uQBZ+eXwdLGUOhIR/Q+1W/Dz5s1DZWUl3nzzTcTHx+Orr77CBx98oI1sRNRBCYKA\n6Xe24rdyK56oQ1K7BT90aNNBNBYWFvj22281nYeIdMSAHk7wdrXC4fO5mBHWHV0cLaSORER/oHYL\nnojofgRBwJNj/CCKwLYDaVLHIaL/wYInooc2tLcL3J3McSjpBm6W1Egdh4j+gAVPRA9NJhPwxOO+\nUKpE7EzMkDoOEf1Bqwo+MzMT+/fvBwBUVVWhtLRUo6GISHcEP+YOOytj7DmRhYrqeqnjENEdags+\nJiYGL774IpYsWQIAKCwsxKuvvqrxYESkGxQGMkQG+aC2XondxzKljkNEd6gt+PXr1+Onn36ChUXT\nEbLe3t64detWqz8gMTER48aNQ1hYGNasWXPfZXbv3o2IiAhMnDgRb775ZqvXTUQdQ9gQD5gZG+Dn\nw9dQ16CUOg4RoRWnySkUiruuAw8Acrm8VStXqVRYtGgRvv32Wzg6OmLq1KkICQmBj49P8zLXr1/H\n2rVrsXnzZpibm6O4uLiNQyAiqZkaKxA+3Atb49MQ/1s2wod5SR2JqNNTuwVvbW2NzMxMCIIAANi5\ncyecnZ1btfILFy7Aw8MDbm5uUCgUiIiIQHx8/F3LbNmyBU899RTMzc0BALa2tm0dAxF1ABNHekNh\nIEPMoXQolSqp4xB1emq34OfPn4833ngDmZmZGD16NIyNjfH111+3auWFhYVwcXFpfuzk5HTPPPZZ\nWVkAgBkzZkAURbz00ksYOXJkG4ZARB2BjYUxQgZ2RdzxLBy7kI+R/d2kjkTUqakteC8vL2zduhVZ\nWVkQRRFeXl6t3kUviqLaZZRKJbKzs7Fp0ybk5eVh5syZiI2Nbd6iJyLdMflxH+w9kYVtB9Mwop9r\n854/ItI+tQUPAPX19ZDJZFAqlcjMbDpK1tfXV+37nJ2dkZeX1/y4sLAQjo6Ody3j5OSE/v37QyaT\noUuXLvDy8kJWVhZ69+79wHUnJSW1JrrO4vh0lz6PDVA/Pn93E1zJLsPW2GPwcTHWUqr209n//XSd\nvo+vLdQW/IYNG7BixQpYW1s3/zUuCMI936XfT0BAALKzs5GbmwsHBwfExsZi+fLldy0TGhqK2NhY\nREVFobi4GNevX4e7u7vadQcGBqpdRlclJSVxfDpKn8cGtG58Vo6leO3fCbhwA3hygm79t+C/n27T\n5/E9zB8uagt+/fr1iIuLg5OTU5tXLpfL8d5772H27NkQRRFTp06Fj48PVq5ciYCAAIwaNQojR47E\n0aNHERERAblcjrfffhtWVlZt/iwi6hh83a3Rt5s9zqfdQnpOKXzdraWORNQpqS14Z2fnhyr33wUF\nBSEoKOiu56Kjo+96/O677+Ldd9996M8goo5lyqhuOJ92CzEJ6Xjr6QFSxyHqlNQW/CuvvIIFCxYg\nODgYRkZGzc8HBwdrNBgR6a5+fg7wdLHEkfN5mBVRDUcbU6kjEXU6agv+4MGDOHjwILKysiCTNZ02\nLwgCC56IWiQIAqKCffDvH8/i58PXMGfSgw+aJaL2p7bg9+3bhwMHDsDYWPeOhiUi6QT174INu5Ox\n58R1/GlMd5iZKKSORNSpqJ3Jzt3dHQYGrTqbjoiomcJAhgkjvFBT14g9J65LHYeo01Hb3B4eHpg1\naxZCQ0NhaGjY/PzMmTM1GoyIdN/4oZ7Ysv8qfj6cgUlB3jCQt+oK1UTUDtQWfENDA7p27YqrV69q\nIw8R6RFzU0OMGeyBnw9fw5HzeXj8sS5SRyLqNNQW/O/XgSciehiTRnoj9sg1xBxKR3B/N05fS6Ql\nLRb87zMCJSQk3Pd1HkVPRK3hbGeGoQGuOHohDxczbqGPr4PUkYg6hRYLPiYmBoGBgVi7du09r/E0\nOSJqi8mP++DohTzEHMpgwRNpSYsF/9FHHwEANm7cqLUwRKSfunvYooenLU4nFyK7oBxdnS2ljkSk\n99Qe0jpjxoxWPUdE9CCTH/cBAOxIyJA4CVHnoLbga2tr73qsVCpRVlamsUBEpJ8G9XKBi70ZDp25\ngdKKOqnjEOm9Fgt+7dq1GDJkCNLS0jB06NDm24ABAzBgAC8eQURtI5cJiBzpjYZGFX49lil1HCK9\n1+J38NOnT8e4ceOwaNEivP/++83Pm5ub83KuRPRQQgZ2xXdxKYg9lokpo7vBUCGXOhKR3mqx4C0s\nLGBhYYHVq1drMw8R6TFjIwOEDfHATwfTcejMDYwd7CF1JCK9pXaimzNnzmDZsmXIycmBUqmEKIoQ\nBAHHjx/XRj4i0jMTRnhjR0IGdiZmYMygrpz4hkhD1Bb8ggUL8Le//Q39+vVrvlwsEdHDsrc2wYi+\nbkg4ewNnr97EY90dpY5EpJfUFryxsTEmTpyojSxE1ElEBnsj4ewN7EzMYMETaYjaTfKgoKAWp6sl\nInoY3dxt0MvbDmdSinC9oFzqOER6Se0W/ObNm7F69WqYmZnB0NCQ38ETUbuIDPLB5Wu3sSvxGl55\nsp/UcYj0jtqC/+mnn7SRg4g6mUG9nOFiZ4aDSTl4NrwHrMyNpI5EpFfU7qJ3c3ODk5MTqqurUVNT\nAycnJ7i5uWkjGxHpMblMwKSgpolvdh/LkjoOkd5RuwV/8eJFREdHN++eb2xsxBdffIFevXppIx8R\n6bHfJ77ZfTQTU0b5cuIbonakdgv+448/xuLFi7Fnzx7s3bsXixcvxqJFi7SRjYj0nImRAcYN8UBp\nZR0SztyQOg6RXlFb8DU1NRg6dGjz4yFDhqCmpkajoYio85gwwhsymYBdh69BFEWp4xDpDbUFb2Ji\nghMnTjQ/PnXqFExMTDQaiog6j6aJb1yRlV+O82k3pY5DpDfUfgc/f/58zJs3D4aGhgCAhoYGrFy5\nUuPBiKjziAzyQeLZXOxMvIZ+fpz4hqg9qC34Pn36YO/evcjMzIQoivD29oZCodBGNiLqJPy62qCH\npy1OJxcip7AC7k4WUkci0nmtmlxeoVDAz88P3bt3Z7kTkUZEBvsAAHYdviZxEiL9wKvHEFGHMKS3\nC5xsTXHgdA7Kq+qljkOk81jwRNQhyGUCJo70Rn2DEnHHs6SOQ6TzWiz4119/HQCwfv16rYUhos5t\nzKCuMDEyQOzRa2hoVEkdh0intVjwaWlpAIAdO3ZoLQwRdW6mxgqMHeyB4vI6HD6XK3UcIp3W4lH0\nvXv3RmBgIOrq6u6a6IZXkyMiTZo40hs/H87AzsQMjArsAkEQpI5EpJNaLPglS5bgjTfewKxZs7Bm\nzRptZiKiTszJ1hRDA1xx9EIeLl27jQAfe6kjEemkB54Hb29vjy1btsDMzExbeYiIEBnkg6MX8rAz\nIYMFT/SQ1B5FX1dXh9deew2DBw/G0KFD8cYbb6C4uFgb2Yiok/L3tIFfV2uculKAvJuVUsch0klq\nC/6DDz6Ap6cndu3ahR07dsDDwwPvv/++NrIRUSclCAKignwhipz4huhhqS347OxszJs3D05OTnBy\nckJ0dDRycnK0kY2IOrFhfVzgYGOC/b9lo6KaE98QtZXaglepVLh9+3bz49u3b0Ol4vmpRKRZcrkM\nk0Z6o65eiV+PZUkdh0jnqL3YzJw5cxAVFYXHH38cgiAgISGheRIcIiJNGjvYA9/vScUvR65h8uM+\nUBjIpY5EpDPUFnxUVBR69eqFkydPQhRFPPvss/D19dVGNiLq5EyNFQgb4oEdCRlIPJuLkIFdpY5E\npDPUFjwAdOvWDd26ddN0FiKie0wc4Y1dh69hR0IGRg9w58Q3RK3Ei80QUYfmaGuK4X1ckZVfjvNp\nN6WOQ6QzWPBE1OFF3blW/I6EDImTEOkOFjwRdXh+XW3Q08sWSSlFyC4olzoOkU5QW/Djxo3Dd999\nh8pKziZFRNKJCm46uHdnIie+IWoNtQW/fPlyJCcnY+zYsfjggw+QmpqqjVxERHcZ1MsZLnZmOJiU\ng5KKWqnjEHV4agu+Z8+e+PjjjxEXFwdPT0/MnTsXM2fOxN69e7WRj4gIACCXCYgM8kZDowq7j2ZJ\nHYeow2v1d/Dnz5/HyZMnYWxsjJEjR+LHH3/Eq6++qslsRER3CRnYFRamCsQezURtfaPUcYg6NLXn\nwf/3v/90V/sGAAAgAElEQVTFjz/+CHd3dzzzzDMIDg6GIAh44YUXMGbMGG1kJCICABgbGSB8mBc2\n77+K+FPZiBjhLXUkog5LbcHn5ORg1apV8PHxuee1FStWaCQUEVFLJozwxvZD6diRmIFxw7wgl3Hi\nG6L7UbuL3tXV9Z5y/89//gMA6N27t9oPSExMxLhx4xAWFoY1a9a0uFxcXBz8/f1x+fJlteskos7L\n2sIIIQO7ouB2NY5fzJM6DlGHpbbgd+/e3arn7kelUmHRokVYt24dfvnlF8TGxiIj496JKqqqqvDd\nd9+hX79+rVovEXVuk4N9IAjATwfTIYqi1HGIOqQWd9EfPXoUR44cQVFREZYuXdr8fFvOh79w4QI8\nPDzg5uYGAIiIiEB8fPw9ewQ+//xzPP/881i7dm1b8xNRJ+TqYI4hvV1w/GI+LmXcRoCvvdSRiDqc\nFrfgFQoFzMzMIAgCTE1Nm2/e3t744osvWrXywsJCuLi4ND92cnJCUVHRXcskJyejoKAAwcHBDzkE\nIuqMnhjVNPHN9kPpEich6pha3IIfNGgQBg0ahLFjx8LPz++hVq5u15koili8eDE++eSTVr+HiAgA\n/D1s0dPLFqeTC3E9vxweLpZSRyLqUASxhUb99ddfMX78eGzatOm+b5w5c6balZ87dw5ffPEF1q1b\nBwDNB9nNnTsXQNPu/jFjxsDU1BSiKOLWrVuwtrbGqlWr0KtXrxbXm5SUpPaziUj/pd6owQ+Jt9HX\nyxSTh9pKHYdIowIDA9u0fItb8GlpaRg/fjwuXbr00GECAgKQnZ2N3NxcODg4IDY2FsuXL29+3dzc\nHMePH29+/Mwzz+Dvf/87evbsqXbdbR2oLklKSuL4dJQ+jw3oeOPr31/E4ZQDuHS9Cq8+3RP21iaP\ntL6ONr72xvHprofZsG2x4KOjowEAS5YseehAcrkc7733HmbPng1RFDF16lT4+Phg5cqVCAgIwKhR\no+5aXhAE7qInolaTyQQ88bgvVm45h12Hr2H2xJb3/BF1Ni0WfEJCwgPf2NqD4oKCghAUFHTXc7//\n8fC/NmzY0Kp1EhH97vHALvguLhlxx7MwPdQPZiYKqSMRdQgtFvyDTlkTBIFHvRNRh6AwkGPiSB+s\nj72C3ccyMS3k4Q4KJtI3LRb8xo0btZmDiOihjR/qiW3xV7EzMQMTR3rD2FDtLNxEeq/F/wtycnLg\n7u6O9PT7n2Pq6+ursVBERG1hZqJAxAhvbNl/FftPZWMCL0JD1HLBf/TRR1i9enXzKW1/JAgC4uPj\nNRqMiKgtJo30xo6EDPx0MB1hQzyhMGj11bCJ9FKLBb969WoAwIEDB7QWhojoYVmZGyFsiAd+PnwN\nCWduIHRQV6kjEUmqVX/iXr16Fd999x02bdrU4i57IiKpTQ72hVwmYNuBNChVPOWWOje1Bb9p0ybM\nmTMHqampSE5OxuzZs/H9999rIxsRUZs42Jhg9AB35N6sxIlL+VLHIZKU2kNNN2zYgB07dsDOzg4A\nUFxcjBkzZuCpp57SeDgioraaMrob9v+Wja3xVzEswAWCIEgdiUgSarfgzczMmssdAGxtbWFmZqbR\nUERED8vNwRzD+rgi40YZzqbelDoOkWRa3IL//bv24cOHY8GCBZg6dSoAICYmBiNHjtROOiKihzBt\ndDccPZ+HLfFX8Zi/o9RxiCTRYsH/7+lxf7wojCAIeO211zSXiojoEfh0sUagvyOSUopw+dpt9PK2\nU/8mIj3TYsHz9Dgi0mXTQvyQlFKErfFX0ct7qNRxiLSu1fM53r59G3V1dc2PXV1dNRKIiKg99PK2\nQy9vOySlFOFqdgn8utpIHYlIq9QeZHf8+HEEBwcjODgY48aNQ0hICKZMmaKNbEREj+SpsO4AgB/2\npkqchEj71Bb8smXL8O2338LX1xfnz5/HP//5Tzz55JPayEZE9EgCfOzRy9sOp5MLcTW7ROo4RFrV\nqpnsvLy80NjYCEEQ8OSTT+Lw4cOazkVE9MgEQeBWPHVaagvewKDpa3onJyccOHAAqampKCsr03gw\nIqL2wK146qzUFvyzzz6LsrIyzJs3D0uWLMGsWbMwb948bWQjInpk3IqnzkrtUfQTJkwAAPTp0wf7\n9u3TeCAiovb2v1vxPKKeOgO1W/CNjY3YtGkToqOjER0dje+//x6NjY3ayEZE1C64FU+dkdot+IUL\nFyI3NxdRUVEQRRG7du1CSkoKFi5cqI18RETtglvx1NmoLfhTp05h9+7dkMmaNvbDw8MRERGh8WBE\nRO3p9634BauO4Ye9qfjgL0OkjkSkUWp30VtbW6O+vr75cWNjI2xtbTUaiohIE3hEPXUmLW7Bb9q0\nCQDQrVs3TJ8+HeHh4QCAuLg4BAQEaCcdEVE7EgQBM8P8MX/VUWzcnYxFLwyTOhKRxrRY8JcuXWq+\n37NnT2RlZQEA/P390dDQoPFgRESaEOBrj8e6O+JMahHOXS1CPz9eTpb0U4sFv2TJEm3mICLSmmfC\ne+BMahHW705G324OEARB6khE7U7tQXaiKGLz5s04duwYBEHA8OHDMW3aNP4PQUQ6y7eLNUb2c8Ph\nc7k4djEfw/vw6pikf9QeZLd06VLExcUhNDQUISEhiIuLw7Jly7SRjYhIY54e5w+ZTMDG3clQKlVS\nxyFqd2oL/siRI1i7di0mTZqESZMmYfXq1bzYDBHpPFcHc4wd7IHcm5XY/1uO1HGI2l2rrib3x93x\n3DVPRPriT2P8YKiQ44e9KahrUEodh6hdqf0OfsSIEXj++ecxefJkCIKAmJgYjBgxQhvZiIg0ys7K\nBJNGemPbgTTEHsmEh6XUiYjaj9ot+LfeegtjxozBvn37sGfPHoSGhuKtt97SRjYiIo2bMsoXZiYK\nbI2/ipp6fhdP+uOBW/BKpRJfffUVoqOjMWPGDG1lIiLSGnNTQ0wd3Q3rY6/gWHIFRgyVOhFR+3jg\nFrxcLkdiYqK2shARSWLCCC/YWhrheEolbpXWSB2HqF2o3UX/+OOPY926dbh9+zZqamqab0RE+sLY\n0ABPj+uBRqWI9buvSB2HqF2oPcjuyy+/BIC7zn0XBAHJycmaS0VEpGUhA7tiy77LOJR0AxOGe6G7\nBy+qRbpNbcGnpKRoIwcRkaRkMgHjA63xzf6b+M/OS1j2ykieFkw6rVXnwRcXF+PgwYM4dOgQSkp4\niUUi0k8ejkYY3tcVqddLkHA2V+o4RI9EbcHv3bsX48ePx8aNG7F+/XqEh4dj//792shGRKR1z03o\nBYWBDOt/uYzaukap4xA9NLW76FesWIEff/wRXl5eAICsrCy8+OKLCA0N1Xg4IiJtc7I1RVSwD7bG\npyHmUDpmhPlLHYnooajdgjcyMmoudwDw9PSEsbGxRkMREUlp6uhusLEwwraD6bhZwrOGSDepLfiQ\nkBCsWrUKN2/eRFFREb7++muEhISgtraWp8sRkV4yNVbg2fCeqG9QYgNPmyMdpXYX/VdffQUA+Pzz\nz+96/ssvv+TpckSkt0YPcEfs0Ws4dOYGIkZ4wZ+nzZGO4WlyRET3IZMJ+EtkAN796ghWbbuA5a8G\nQS5v1YlHRB0Cf1uJiFrQy9sOIQPdcS2vDD8fyZQ6DlGbsOCJiB7guQm9YGFqiE1xyTzgjnQKC56I\n6AGszI0we2JP1NYrsWbHBanjELUaC56ISI2QgV3Ry9sOJy4V4MSlfKnjELUKC56ISA1BEPDS1L4w\nkAtYHXMRNZzhjnQAC56IqBXcnSzwxKhuuFVag+/38Owi6vhY8ERErfRkqB9c7Myw6/A1ZNwolToO\n0QOx4ImIWslIIccLU/pApRLx1bbzUKpEqSMRtYgFT0TUBo91d0Rw/y5IyynFjkPpUschapHGCz4x\nMRHjxo1DWFgY1qxZc8/r3377LSIiIhAZGYnnnnsO+fk8QpWIOrbno3rD2sII38WlICu/XOo4RPel\n0YJXqVRYtGgR1q1bh19++QWxsbHIyMi4a5mePXti+/bt2LlzJ8aOHYulS5dqMhIR0SOzMjfCK9P6\noVGpworvz6ChUSV1JKJ7aLTgL1y4AA8PD7i5uUGhUCAiIgLx8fF3LTNo0CAYGRkBAPr164fCwkJN\nRiIiaheDejkjdGBXXMsrw+b9qVLHIbqHRgu+sLAQLi4uzY+dnJxQVFTU4vLbtm1DUFCQJiMREbWb\n56N6w8HGBFvj03A1u0TqOER3UXs1uUchiq0/wnTnzp24fPkyNm7c2Krlk5KSHjaWTuD4dJc+jw3g\n+P5X+GNmWB9fgyXfHMNfxzlBYSBoKFn74L9f56HRgnd2dkZeXl7z48LCQjg6Ot6z3LFjx7BmzRp8\n9913UCgUrVp3YGBgu+XsaJKSkjg+HaXPYwM4vvsJBFBcfxE/H76GSwXG+Etkb82Eawf899NdD/OH\ni0Z30QcEBCA7Oxu5ubmor69HbGwsQkJC7lrmypUr+OCDD7Bq1SrY2NhoMg4RkUY8G94Dbg5m2HU4\nAxfTb0kdhwiAhgteLpfjvffew+zZszFhwgRERETAx8cHK1euxMGDBwEAy5YtQ01NDebNm4eoqCj8\n7W9/02QkIqJ2Z2xogNdmPAYBwGffJ6Gssk7qSESa3UUPAEFBQfccOBcdHd18/5tvvtF0BCIijevu\nYYuZ43pg46/JWP7DGXwwZwhkso79fTzpN85kR0TUTqaO7obH/B1xJqUIPx1MkzoOdXIseCKidiKT\nCXh9xmOwszLGd78m42IGv48n6bDgiYjakZW5Ed5+ZgAgCPj0u9MoqaiVOhJ1Uix4IqJ21tPLDrPC\ne6C4vA6fbUriVedIEix4IiINiAr2xaCezjifdgtb9nEqW9I+FjwRkQbIZAJendEfjjYm+GFfKk4n\n8zobpF0seCIiDbEwNcQ7zw6EQi7D0o2ncZ2XliUtYsETEWmQX1cbvDrjMdTUNWLhuhMoreAkOKQd\nLHgiIg0b2c8NM8f5o6ikBh9/cxL1DUqpI1EnwIInItKC6aF+CO7fBSnXS7By87k2XW2T6GGw4ImI\ntEAQBERP7wd/DxsknL2BzfuvSh2J9BwLnohISwwVcix4bjAcbUywKS4Fh8/mSh2J9BgLnohIi6wt\njPD+nCEwMTLA8h/O4ExqkdSRSE+x4ImItMzDxRILnhsEQQA+/uYULl+7LXUk0kMseCIiCfTt5oB3\nZw2EUqnCwnUnkJ5TKnUk0jMseCIiiQzq6Yw3ngpEbV0j3l9zHNcLOBEOtR8WPBGRhEb2d8PL0/qh\noroe768+hvxbVVJHIj3BgiciktiYwR54PrI3isvr8I+vj6KopFrqSKQHWPBERB3ApCAfPH1ntrt3\nvjyC3JuVUkciHceCJyLqIKaP6Y5nw3vgVmkN3vnyMDJu8MA7engseCKiDmRaiB/+NqUPyqvqMX/V\nUZ5CRw+NBU9E1MGMH+aFN54KRF29Eu+vOc5rydNDYcETEXVAwY91wYLnBgGiiI/+exKJZ29IHYl0\nDAueiKiDGtjTGQv/OgxGhnIs+y4Jm/el8ip01GoseCKiDqyXtx3+9dIIONiY4Lu4FHyy8TRq6xql\njkU6gAVPRNTBeblaYfm8YPTytsPR83l456sjPFee1GLBExHpAGsLIyz66zCEDfHAtdwyvPHvRFzJ\n5BH21DIWPBGRjlAYyPDS1L54YXIAyqvrsWDVUcQezeT38nRfLHgiIh0iCAIiRnhj4dyhMDFS4Ovt\nF/DxN6dQVlkndTTqYFjwREQ6qG83B3zx5uPo42uPk5cLEP3ZQZy7WiR1LOpAWPBERDrKzsoEi/46\nDM9N6Imyynq8t/o4vvn5MhoaVVJHow6ABU9EpMNkMgFPjOqGT6OD4Gpvhu2H0vHmykRcyy2TOhpJ\njAVPRKQHfN2t8e/XH8eYQV1xLbcMr/07Aet2XUINz5nvtFjwRER6wsTIANHT+2Ph3KFwsjHFjoQM\nvLTsAE5dKZA6GkmABU9EpGf6d3fEF2+NwpOhfigpr8WidSexZP0plFVza74zMZA6ABERtT8jhRzP\njO+BoP5u+GrreRy7kI9TlwXcqLiCKaO6wcxEIXVE0jBuwRMR6TEPZ0v866URmDe9H0wMBWyNT8Pz\ni/djZ2IGGhqVUscjDeIWPBGRnpPJBIQO8oCZWIQblVbYdiANa3dewq7D1/DMOH+M7N8FcpkgdUxq\nZ9yCJyLqJAwNZJgW4oc1fw/FpCBvFJfV4LPvz+ClpfHYe/I6t+j1DAueiKiTsTI3wvORAVj1TgjG\nDOqKwuJqfLHlHP7y8X7EHEpHdW2D1BGpHbDgiYg6KWc7M0RP74+1C8YgKtgH1bUN+O/PlzH7o33Y\nsPsKCot5SVpdxu/giYg6OTsrE8yZ1BtPhvoh9mgmdiVew9b4NGw7kIZAfyeMG+KBAT2cIJdzm1CX\nsOCJiAgAYGFqiD+N6Y6oYB8cPZ+HX49n4XRyIU4nF8LeyhhjB3tg9MCucLI1lToqtQILnoiI7mJs\naICQgV0RMrArMvPK8OvxLBxKuoHv96bi+72p8PewQVD/LhjRzxU2FsZSx6UWsOCJiKhFXq5W+NuU\nvnhuQi8cOZeLxLO5uJB+EynXS7B250X08XXAyP5uGNjTiWXfwbDgiYhILRMjA4wZ7IExgz1QUl6L\nw+ebyv5c2k2cS7sJAPDrao1BPZ0xsKczvFwtIQg8t15KLHgiImoTG0tjTBrpg0kjfVBwuwonLuXj\n1OVCXM68javZpfguLgX2Vsbo390Rfbo5oI+vPWwtuXWvbSx4IiJ6aM52ZogK9kVUsC8qaxpwJqUQ\nv11pOjBv36ls7DuVDQDo4miOPr72CPC1Rw9PW9hZmUicXP+x4ImIqF2YmygQ1L8Lgvp3gVIlIjO3\nDBfSb+FC+k1cvnYbu49lYfexLACAvZUxunvYoruHDbp72MCnizWMFHJpB6BnWPBERNTu5DIBvu7W\n8HW3xhOjfNGoVCE9pxQXM27hanYJUq6X4OiFPBy9kAcAkAmAm6M5vFyt4ONmBS/Xppu1hZHEI9Fd\nLHgiItI4A7kM/p628Pe0BQCIooiikhqkXi9G6vUSZOSW4VpuGXIKK5F4Nrf5fRamhnB3Moe7kwW6\nOFrA3ckcXRwtYG9twgvkqMGCJyIirRMEAU62pnCyNUVQ/y4AAJVKRGFxNa7llSEztwzX8spwo7AS\nKVnFuJJZfNf7DeQCHG1M4WxnBmc7U7jYm6GipAaWjiVwsDaFlblhpz+KX+MFn5iYiMWLF0MURUyZ\nMgVz58696/X6+nq88847uHz5MmxsbLBixQq4urpqOhYREXUwMpkAF3szuNibYXif/+uB+gYl8m5V\nIaewAjcKK5B7swoFt6uQf7sKZ1KL7lrHlsOJAACFgQz21iZwsDaBjYUxbK2MYWtp1Hzf2twI1hZG\nMDNWQKanewI0WvAqlQqLFi3Ct99+C0dHR0ydOhUhISHw8fFpXmbbtm2wsrLC3r17sXv3bixbtgwr\nVqzQZCwiItIhhgo5PF0s4eliec9r1bUNyL9VhYLiapy9eBVG5na4WVKDm6U1uFVSgwvptx64brlM\ngKWZIazMjWBlbggL0zs3M0NYmCpgbmIIc1MFzEwUMDdRwNS46b6pkUGH/8NAowV/4cIFeHh4wM3N\nDQAQERGB+Pj4uwo+Pj4e0dHRAICwsDAsXLhQk5GIiEiPmBor4NPFGj5drGHckI/AwIC7Xm9oVKKk\nvA7FFbUoLqtFSXktbpfXoqyyHmWVdU23qnoUlVQjK7+8TZ9tYiSHiZFB0824qfRNjAxgZCiHsaEB\njI3u/DSUw0ghh5GhHIaKpvv/91MGQ4UcCoOmn4YG8nb7ekGjBV9YWAgXF5fmx05OTrh48eJdyxQV\nFcHZ2RkAIJfLYWlpidLSUlhbW2syGhERdQIKAzkcbU3h2IoL5DQ0KlFZ3YCK6npU/P6zqh5VtQ2o\nrGlAVU0DqmsbUVXT9LimrhE1dY2oqmnEzdJa1Dco2yXzuKGeeGlq30dej0YLXhTFNi8jimKnPzCC\niIi0T2Egh42lHDYPOeueUqlCTV0jauuVqK1v+llXr0RNXSPqG5Soa1A2/axvul/XoERDgwr1jUo0\nNKpQ36BEfaMKgf6O7TIejRa8s7Mz8vLymh8XFhbC0dHxnmUKCgrg5OQEpVKJyspKWFlZqV13UlJS\nu+ftSDg+3aXPYwM4Pl3H8WmfAMDozg2KO7cWyYC6PCQl5T1ooVbRaMEHBAQgOzsbubm5cHBwQGxs\nLJYvX37XMqNGjUJMTAz69u2LuLg4DBkyRO16AwMDNRWZiIhILwhia/ajP4LExER8/PHHEEURU6dO\nxdy5c7Fy5UoEBARg1KhRqK+vx1tvvYXk5GRYW1tj+fLl6NKliyYjERER6T2NFzwRERFpn0zqAERE\nRNT+WPBERER6iAVPRESkh3Sq4JcuXYrx48cjMjISr7zyCiorK5tfW716NcaOHYvx48fjyJEjEqZ8\nOHFxcZgwYQJ69OiBy5cv3/Waro/td4mJiRg3bhzCwsKwZs0aqeM8svnz52PYsGGYOHFi83NlZWWY\nPXs2wsLCMGfOHFRUVEiY8NEUFBTg2WefRXh4OCZOnIgNGzYA0J8x1tfXY9q0aYiKisLEiRPx5Zdf\nAgBu3LiBJ598EmFhYXj99dfR2NgocdKHp1KpMHnyZLzwwgsA9Gtso0ePxqRJkxAVFYWpU6cC0J/f\nTQCoqKhAdHQ0xo8fj4iICJw/f77t4xN1yNGjR0WlUimKoiguW7ZM/PTTT0VRFMW0tDQxMjJSbGho\nEHNycsTQ0FBRpVJJGbXNMjIyxMzMTPGZZ54RL1261Px8enq6zo9NFEVRqVSKoaGh4o0bN8T6+npx\n0qRJYnp6utSxHslvv/0mXrlyRZwwYULzc0uXLhXXrFkjiqIorl69Wly2bJlU8R5ZUVGReOXKFVEU\nRbGyslIcO3asmJ6erldjrK6uFkVRFBsbG8Vp06aJ586dE+fNmyfu3r1bFEVRfP/998UffvhByoiP\n5JtvvhHfeOMN8a9//asoiqJejW306NFiaWnpXc/p0+/mO++8I27btk0URVFsaGgQy8vL2zw+ndqC\nHzZsGGSypsj9+vVDQUEBAODAgQMIDw+HgYEBunTpAg8PD1y4cEHKqG3m7e0NT0/Pe2b2i4+P1/mx\nAXdfl0ChUDRfl0CXDRgwAJaWd1/8Ij4+HpMnTwYATJ48Gfv375ciWrtwcHBAjx49AABmZmbw8fFB\nYWGhXo3RxMQEQNPWfGNjIwRBwMmTJxEWFgagaXz79u2TMuJDKygoQEJCAqZNm9b83IkTJ/RibEDT\nrKcqlequ5/Tld7OyshKnT5/GlClTAAAGBgawsLBo8/h0quD/aNu2bQgODgZw/znvCwsLpYrWrvRl\nbPcbR1FR0QPeoZuKi4thb28PoKkgS0pKJE7UPm7cuIGUlBT07dsXt2/f1psxqlQqREVFYfjw4Rg+\nfDjc3d1haWnZvCHh7Oyss7+nixcvxttvv9089XdJSQmsrKz0YmxA0/Xk58yZgylTpmDr1q0AoDe/\nmzdu3ICNjQ3+/ve/Y/LkyXjvvfdQU1PT5vFp/HrwbfXcc8/h1q17L+/32muvYfTo0QCAVatWQaFQ\nYMKECQDuP+d9R5zPvjVj+1+6MjZ17jcO0g1VVVWIjo7G/PnzYWZmppO/fy2RyWTYsWMHKisr8dJL\nLyEjI+OeZXRxvIcOHYK9vT169OiBkydPAmj6f/B//z/UxbH97scff4SDgwOKi4sxe/ZseHl56fR4\n/qixsRFXrlzB+++/j4CAACxevBhr1qxp8/g6XMF/8803D3w9JiYGCQkJzQf8AE1/iebn5zc/Ligo\nuGfO+45A3djuR1fGpk5rrkugD+zs7HDr1i3Y29vj5s2bsLW1lTrSI2lsbER0dDQiIyMRGhoKQP/G\nCADm5uYYOHAgzp8/j/LycqhUKshkMp39/+3MmTM4cOAAEhISUFdXh6qqKixevBgVFRU6P7bfOTg4\nAABsbW0RGhqKCxcu6M3vprOzM5ydnREQ0HTp27Fjx+I///lPm8enU7voExMTsXbtWqxatQqGhobN\nz48ePRq7d+9GfX09cnJykJ2djT59+kiY9NH88a9sfRnbH69LUF9fj9jYWISEhEgd65H97xbR6NGj\nsX37dgBNf4zq+hjnz58PX19fzJo1q/k5fRljcXFx81HItbW1OH78OHx9fTF48GDExcUB0N3xvf76\n6zh06BDi4+OxfPlyDB48GJ9++qlejA0AampqUFVVBQCorq7GkSNH4Ofnpze/m/b29nBxcUFmZiaA\npmMnfH192zw+nZqqduzYsWhoaGi+Vnzfvn3x4YcfAmg6lWzbtm0wMDDAggULMGLECAmTtt3+/fux\naNEilJSUwNLSEv7+/li7di0A3R/b7+53XQJd9sYbb+DkyZMoLS2Fvb09XnnlFYSGhmLevHnIz8+H\nq6srPv/883sOxNMVSUlJePrpp+Hn5wdBECAIAl577TX06dMHr776qs6PMTU1Fe+++y5UKhVUKhXC\nw8Px4osvIicnB6+//jrKy8vRo0cPLFu2DArFAy//1aGdOnUK//3vf/H111/rzdhycnLw8ssvQxAE\nKJVKTJw4EXPnzkVpaale/G4CQEpKChYsWIDGxka4u7tjyZIlUCqVbRqfThU8ERERtY5O7aInIiKi\n1mHBExER6SEWPBERkR5iwRMREekhFjwREZEeYsETERHpIRY80QP4+/ujpqZGa58XExOD69eva+3z\nfvfll19i6dKlapf7+9//jk2bNrXrZ2/YsOGhZnlcuXIlfv3110f67P379+PixYuPtI5ly5YhNjb2\nkdZBpAkseKIH0Obc1iqVCtu3b0dWVlab36ur01nU1tZi48aNmDlzZpvf+/u1sh9FfHz8I1+dcc6c\nOfjiiy8eaR1EmtDh5qInktLevXuxYsUKGBsbY8yYMXe9duHCBXz66afNU2RGR0cjODgYubm5mDJl\nCgQkUoYAAAfXSURBVCZPnoyjR48CAN5//30MGDAASqUSc+fORVlZGerq6hAQEICFCxfCwMAAMTEx\n2LVrF8zMzHD9+nVMmTIFly5dwkcffYR///vfePvtt5GUlITq6mq8/fbbAJq2tH9//OWXXyItLQ2V\nlZXIz8/H5s2bcevWLSxevBilpaVoaGjArFmzmi8v+UeVlZWYP38+0tPTYW9vD2dn5+arVDU0NGDF\nihU4ffo0Ghoa4Ofnhw8//LD50qq/O378OD7//PPmS62+8MILCA8Px8WLFzF//nz8/PPPzctGRkbi\nn//8J/r163fXOvbs2YOBAwc2Tz0dExODX375BRYWFkhNTYWzszP+8Y9/YOnSpbh+/Tp69+6NTz/9\nFEDT3oTevXtj5syZ+PLLL5GZmYmKigrk5OTAw8MDn3/+OYyMjO5a7o/v8/DwwIEDB3D8+HFs27YN\nf/7znxEZGYkdO3bg+++/h1KphIWFBT788EN4enri7NmzWLRoEURRRGNjI1588UWEh4f///buJSSq\nNgzg+F+O1pjmDWqTGQORCqZJIxZm0BQVg7cZTaGiFtrFIsoUxIUZugghXWkqCi3MBENMJ5RALMqY\nrImKLGnhNaMSzGqchZr4LdSDJy/R99VXyfNb6XnPeec5Z4Rn3ovz4OfnR0BAADabje3bt/+7Pzwh\nfgFJ8ELM+PjxI7m5udTV1bFhwwb1q4IBHA4HeXl5VFZWqoUekpKS1KnZT58+ERwcTHZ2No8fPyYz\nM5PW1lbc3NwoLi7G29sbgOzsbOrr60lJSQHg+fPnNDU14e/vD0yPKNPS0tRSyE+ePFky5hcvXtDQ\n0IC3tzeTk5NkZmZSVFSEXq/H6XSSmJjIli1b0Ov1mutKS0tZvXo1zc3NjIyMYLFY1NFwVVUVXl5e\n1NXVAXD58mUqKio4d+6cpo+QkBBqa2txcXFheHgYi8VCdHQ0mzdvxsPDA7vdjsFgwG63oyjKvOQO\n01+jGhYWpjnW2dmJ1Wpl7dq1nDx5kqysLK5du4ZOp8NsNi+aSDs7O6mvr8fT05PU1FSampo0tdC/\ntWPHDoxGoyb52+12WlpaqKmpwc3NjXv37pGTk0NtbS2VlZWkpaVhMpmA6Q9Js8LCwiTBiz+OJHgh\nZjx79kwd2QGkpKRQVFQETFfnGhwc5NixY+p0uKIo9Pf34+Pjw4oVK4iLiwMgIiICnU5Hb28vGzdu\npKqqivv37zM5OYnD4dCMhLdu3aom939j586d6oeHvr4+enp6OH/+vBrjxMQE3d3d8xJ8R0cHubm5\nAPj6+mpmK9ra2nA6nWpRkomJCYKCgua99vDwMDk5OfT396MoCl++fKG3t5fQ0FAOHz5MTU0NBoOB\n69evc/DgwQXjf//+Pbt27dIcCw8PV6ucBQcH4+/vj4eHBzC9J2JgYGDBRBodHY2npycAoaGhvHnz\n5jtPb747d+7w+vVrkpOT1fKqswVpIiMjKSsro7+/n6ioKE3RpzVr1mC323/49YT4lSTBCzHj23Xs\nb38PCgqiurp63nVv375dsC8XFxesVitPnz6ltrYWd3d3KioqNGvsq1atWjImRVE0cYyNjWna514/\nNTWFn58fDQ0NS/Y5e+5SbXl5eURGRi7Zx8WLF9m9ezclJSUA7Nu3T41v//79FBcX09XVxaNHj7h0\n6dKCfeh0OsbHxzXHVq5cqf6sKIqmcqSiKHz9+nXBvr49bzaW7z3DuaampkhMTOTMmTPz2o4ePYrR\naMRms1FQUEBUVJQ6qzE2NoZOp1u0XyF+B9lkJ8SM8PBwXr16xcDAAAA3btzQtPX19dHR0aEem7v7\nenx8XF1zttvtjI+Po9frcTgc+Pr64u7ujsPh4NatW0vG4OnpqY4YAQICAujs7GRqaorR0VHu3r27\n6LV6vR6dTkdjY6N6rKenR90zMNe2bdvUspMjIyO0traqbUajkatXr6qJ0Ol00t3dPa8Ph8PBunXr\nAHjw4IH63ABcXV2xWCykp6cTGxurSdpzbdq0iZ6enkXv6WcICAhQ36uhoSHNe+jh4aGZajcajdy8\neZMPHz4A0xsfX758CUzPkKxfv57k5GSOHDmief+7u7sJDAz8pfchxI+SBC/EDD8/PwoKCjhx4gQW\ni4WJiQm1zcvLi7KyMkpKSkhISMBkMlFaWqq2+/j40NXVRVxcHPn5+RQXF+Pq6kpCQgKjo6OYTCZO\nnTqFwWBYMoaUlBRKS0uxWCzYbDb27t2Lt7c3JpOJs2fPEhISsui1iqJQXl5Oc3Mz8fHxxMTEkJ+f\nr7mPWadPn+bz589qvxEREWrb8ePHCQwMJCkpibi4OA4dOqTWpZ4rMzOTwsJCzGYzt2/fnjeNf+DA\nAYaGhhadnofpEtDt7e1LPpP/Kjk5mXfv3qnPY+6af3x8PFarFbPZTGNjIwaDgYyMDNLT00lISCA2\nNpa2tjYAqquriYmJwWw2U1NTQ0ZGhtqPzWZjz549v/Q+hPhRUi5WiP9odhf9w4cPf3cof5TGxkZa\nWlooLy9f8ry0tDSysrIWXOf/G7S3t2O1WiksLPzdoQihIWvwQvwE/+f/y/8NUlNTGRwc5MqVK989\n98KFC/T19f21Cd7pdJKVlfW7wxBiHhnBCyGEEMuQrMELIYQQy5AkeCGEEGIZkgQvhBBCLEOS4IUQ\nQohlSBK8EEIIsQxJghdCCCGWoX8AaHQOE2PnMw4AAAAASUVORK5CYII=\n",
      "text/plain": [
       "<matplotlib.figure.Figure at 0x7f6bd48dd050>"
>>>>>>> origin/ch7
      ]
     },
     "metadata": {},
     "output_type": "display_data"
    }
   ],
   "source": [
    "delay = np.arange(-20, 60, 1)\n",
    "prob = [lrmodel.predict([d, 10, 500]) for d in delay]\n",
    "ax = plt.plot(delay, prob)\n",
    "plt.xlabel('departure delay (minutes)')\n",
    "plt.ylabel('probability of ontime arrival')"
   ]
  },
  {
   "cell_type": "markdown",
   "metadata": {},
   "source": [
    "<h2> Evaluate model </h2>\n",
    "\n",
    "Evaluate on the test data"
   ]
  },
  {
   "cell_type": "code",
<<<<<<< HEAD
   "execution_count": 57,
=======
   "execution_count": 73,
>>>>>>> origin/ch7
   "metadata": {
    "collapsed": false
   },
   "outputs": [
    {
     "name": "stdout",
     "output_type": "stream",
     "text": [
      "\n",
      "SELECT\n",
      "  *\n",
      "FROM flights f\n",
      "JOIN traindays t\n",
      "ON f.FL_DATE == t.FL_DATE\n",
      "WHERE\n",
      "  t.is_train_day == 'False' AND\n",
      "  f.CANCELLED == '0.00' AND \n",
      "  f.DIVERTED == '0.00'\n",
      "\n"
     ]
    }
   ],
   "source": [
    "testquery = trainquery.replace(\"t.is_train_day == 'True'\",\"t.is_train_day == 'False'\")\n",
    "print testquery"
   ]
  },
  {
   "cell_type": "code",
<<<<<<< HEAD
   "execution_count": 59,
=======
   "execution_count": 74,
>>>>>>> origin/ch7
   "metadata": {
    "collapsed": true
   },
   "outputs": [],
   "source": [
    "testdata = spark.sql(testquery)\n",
    "examples = testdata.rdd.map(to_example)"
   ]
  },
  {
   "cell_type": "code",
<<<<<<< HEAD
   "execution_count": 60,
=======
   "execution_count": 79,
>>>>>>> origin/ch7
   "metadata": {
    "collapsed": false
   },
   "outputs": [
    {
     "name": "stdout",
     "output_type": "stream",
     "text": [
<<<<<<< HEAD
      "All flights:\n",
      "{'correct_cancel': 0.7917474551623849, 'total_noncancel': 115949, 'correct_noncancel': 0.9571363271783284, 'total_cancel': 33008}\n",
      "Flights near decision threshold:\n",
      "{'correct_cancel': 0.30886504799548276, 'total_noncancel': 2224, 'correct_noncancel': 0.7383093525179856, 'total_cancel': 1771}\n"
=======
      "{'correct_cancel': 0.7917474551623849, 'total_noncancel': 115949, 'correct_noncancel': 0.9571363271783284, 'total_cancel': 33008}\n"
>>>>>>> origin/ch7
     ]
    }
   ],
   "source": [
<<<<<<< HEAD
    "def eval(labelpred):\n",
    "    cancel = labelpred.filter(lambda (label, pred): pred < 0.7)\n",
    "    nocancel = labelpred.filter(lambda (label, pred): pred >= 0.7)\n",
    "    corr_cancel = cancel.filter(lambda (label, pred): label == int(pred >= 0.7)).count()\n",
    "    corr_nocancel = nocancel.filter(lambda (label, pred): label == int(pred >= 0.7)).count()\n",
=======
    "lrmodel.setThreshold(0.7)\n",
    "labelpred = examples.map(lambda p: (p.label, lrmodel.predict(p.features)))\n",
    "def eval(labelpred):\n",
    "    cancel = labelpred.filter(lambda (label, pred): pred == 0)\n",
    "    nocancel = labelpred.filter(lambda (label, pred): pred == 1)\n",
    "    corr_cancel = cancel.filter(lambda (label, pred): label == pred).count()\n",
    "    corr_nocancel = nocancel.filter(lambda (label, pred): label == pred).count()\n",
>>>>>>> origin/ch7
    "    \n",
    "    cancel_denom = cancel.count()\n",
    "    nocancel_denom = nocancel.count()\n",
    "    if cancel_denom == 0:\n",
    "        cancel_denom = 1\n",
    "    if nocancel_denom == 0:\n",
    "        nocancel_denom = 1\n",
    "    return {'total_cancel': cancel.count(), \\\n",
    "            'correct_cancel': float(corr_cancel)/cancel_denom, \\\n",
    "            'total_noncancel': nocancel.count(), \\\n",
    "            'correct_noncancel': float(corr_nocancel)/nocancel_denom \\\n",
    "           }\n",
<<<<<<< HEAD
    "\n",
    "# Evaluate model\n",
    "lrmodel.clearThreshold() # so it returns probabilities\n",
    "labelpred = examples.map(lambda p: (p.label, lrmodel.predict(p.features)))\n",
    "print 'All flights:'\n",
    "print eval(labelpred)\n",
    "\n",
    "# keep only those examples near the decision threshold\n",
    "print 'Flights near decision threshold:'\n",
    "labelpred = labelpred.filter(lambda (label, pred): pred > 0.65 and pred < 0.75)\n",
=======
>>>>>>> origin/ch7
    "print eval(labelpred)"
   ]
  },
  {
   "cell_type": "code",
   "execution_count": null,
   "metadata": {
    "collapsed": true
   },
   "outputs": [],
   "source": []
  }
 ],
 "metadata": {
  "kernelspec": {
   "display_name": "Python 2",
   "language": "python",
   "name": "python2"
  },
  "language_info": {
   "codemirror_mode": {
    "name": "ipython",
    "version": 2
   },
   "file_extension": ".py",
   "mimetype": "text/x-python",
   "name": "python",
   "nbconvert_exporter": "python",
   "pygments_lexer": "ipython2",
   "version": "2.7.9"
  }
 },
 "nbformat": 4,
 "nbformat_minor": 2
}
